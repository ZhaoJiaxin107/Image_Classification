{
 "cells": [
  {
   "cell_type": "markdown",
   "metadata": {},
   "source": [
    "## Basic Deep Learning"
   ]
  },
  {
   "cell_type": "markdown",
   "metadata": {},
   "source": [
    "#### Cats and dogs classification"
   ]
  },
  {
   "cell_type": "markdown",
   "metadata": {},
   "source": [
    "#### Prepare for dataset"
   ]
  },
  {
   "cell_type": "code",
   "execution_count": 1,
   "metadata": {
    "collapsed": true
   },
   "outputs": [],
   "source": [
    "import os,shutil\n",
    "\n",
    "# download dataset from kaggle and unzip it\n",
    "original_dataset_dir = 'C:/Users/zjiax/Desktop/Projects/dogs_cats_classification/train/'\n",
    "\n",
    "# set the name of each level of the dataset\n",
    "base_dir = 'data'\n",
    "data_dirs = ['train','validation','test']\n",
    "class_dirs = ['cat','dog']\n",
    "\n",
    "# select appropriate  number of pictures to train/validation/test\n",
    "images = {\n",
    "    'train':[0,1000],\n",
    "    'validation':[1000,1500],\n",
    "    'test':[1500,2000],\n",
    "}"
   ]
  },
  {
   "cell_type": "code",
   "execution_count": 2,
   "metadata": {
    "collapsed": true
   },
   "outputs": [],
   "source": [
    "for d in data_dirs:\n",
    "    for c in class_dirs:\n",
    "        # construct the catalogue, e.g.'data/train/dog'\n",
    "        dataset_dir = f\"{base_dir}/{d}/{c}/\"\n",
    "        \n",
    "        #The os.makedirs () method is used to create directories recursively\n",
    "        os.makedirs(dataset_dir,exist_ok=True)\n",
    "        \n",
    "        # construct file name e.g.'cat.1.jpg'\n",
    "        fnames = [f'{c}.{i}.jpg' for i in range(images[d][0],images[d][1])]\n",
    "        \n",
    "        #copy the selected images into corresponding dataset catalogue\n",
    "        for fname in fnames:\n",
    "            shutil.copyfile(original_dataset_dir + fname, dataset_dir + fname)"
   ]
  },
  {
   "cell_type": "markdown",
   "metadata": {},
   "source": [
    "#### Construct Convolutional Neural Network Model"
   ]
  },
  {
   "cell_type": "code",
   "execution_count": 3,
   "metadata": {},
   "outputs": [
    {
     "name": "stderr",
     "output_type": "stream",
     "text": [
      "C:\\Users\\zjiax\\Anaconda3\\lib\\site-packages\\h5py\\__init__.py:34: FutureWarning: Conversion of the second argument of issubdtype from `float` to `np.floating` is deprecated. In future, it will be treated as `np.float64 == np.dtype(float).type`.\n",
      "  from ._conv import register_converters as _register_converters\n",
      "Using TensorFlow backend.\n"
     ]
    }
   ],
   "source": [
    "from keras import models, layers, optimizers"
   ]
  },
  {
   "cell_type": "code",
   "execution_count": 4,
   "metadata": {
    "collapsed": true
   },
   "outputs": [],
   "source": [
    "model = models.Sequential()\n",
    "\n",
    "model.add(layers.Conv2D(32,(3,3),activation = 'relu',input_shape = (150,150,3)))\n",
    "model.add(layers.MaxPooling2D((2,2)))\n",
    "\n",
    "model.add(layers.Conv2D(64,(3,3),activation = 'relu'))\n",
    "model.add(layers.MaxPooling2D((2,2)))\n",
    "          \n",
    "model.add(layers.Conv2D(128,(3,3),activation = 'relu'))\n",
    "model.add(layers.MaxPooling2D((2,2)))\n",
    "          \n",
    "model.add(layers.Conv2D(128,(3,3),activation = 'relu'))\n",
    "model.add(layers.MaxPooling2D((2,2)))\n",
    "model.add(layers.Flatten())\n",
    "          \n",
    "model.add(layers.Dense(512,activation='relu'))\n",
    "model.add(layers.Dense(1,activation='sigmoid'))"
   ]
  },
  {
   "cell_type": "markdown",
   "metadata": {},
   "source": [
    "#### Model Visualization"
   ]
  },
  {
   "cell_type": "code",
   "execution_count": 5,
   "metadata": {},
   "outputs": [
    {
     "name": "stdout",
     "output_type": "stream",
     "text": [
      "Model: \"sequential_1\"\n",
      "_________________________________________________________________\n",
      "Layer (type)                 Output Shape              Param #   \n",
      "=================================================================\n",
      "conv2d_1 (Conv2D)            (None, 148, 148, 32)      896       \n",
      "_________________________________________________________________\n",
      "max_pooling2d_1 (MaxPooling2 (None, 74, 74, 32)        0         \n",
      "_________________________________________________________________\n",
      "conv2d_2 (Conv2D)            (None, 72, 72, 64)        18496     \n",
      "_________________________________________________________________\n",
      "max_pooling2d_2 (MaxPooling2 (None, 36, 36, 64)        0         \n",
      "_________________________________________________________________\n",
      "conv2d_3 (Conv2D)            (None, 34, 34, 128)       73856     \n",
      "_________________________________________________________________\n",
      "max_pooling2d_3 (MaxPooling2 (None, 17, 17, 128)       0         \n",
      "_________________________________________________________________\n",
      "conv2d_4 (Conv2D)            (None, 15, 15, 128)       147584    \n",
      "_________________________________________________________________\n",
      "max_pooling2d_4 (MaxPooling2 (None, 7, 7, 128)         0         \n",
      "_________________________________________________________________\n",
      "flatten_1 (Flatten)          (None, 6272)              0         \n",
      "_________________________________________________________________\n",
      "dense_1 (Dense)              (None, 512)               3211776   \n",
      "_________________________________________________________________\n",
      "dense_2 (Dense)              (None, 1)                 513       \n",
      "=================================================================\n",
      "Total params: 3,453,121\n",
      "Trainable params: 3,453,121\n",
      "Non-trainable params: 0\n",
      "_________________________________________________________________\n"
     ]
    }
   ],
   "source": [
    "model.summary()"
   ]
  },
  {
   "cell_type": "markdown",
   "metadata": {},
   "source": [
    "#### Model Compiling"
   ]
  },
  {
   "cell_type": "markdown",
   "metadata": {},
   "source": [
    "#### Arguments\n",
    "optimizer: String (name of optimizer) or optimizer instance.\n",
    "\n",
    "loss: String (name of objective function) or objective function.\n",
    "    If the model has multiple outputs, you can use a different loss\n",
    "    on each output by passing a dictionary or a list of losses.\n",
    "        \n",
    "metrics: List of metrics to be evaluated by the model during training and testing.\n",
    "      Typically you will use metrics=['accuracy'].\n",
    "       To specify different metrics for different outputs of a multi-output model, you could also pass A a          dictionary."
   ]
  },
  {
   "cell_type": "markdown",
   "metadata": {},
   "source": [
    "In linear regression problems, MSE (Mean Squared Error) is often used as the loss function, and cross entropy is often used as the loss function in the classification problem. "
   ]
  },
  {
   "cell_type": "markdown",
   "metadata": {},
   "source": [
    "Cross entropy can measure the degree of difference between two different probability distributions in the same random variable. In machine learning, it is expressed as the difference between the true probability distribution and the predicted probability distribution. The smaller the value of cross entropy, the better the model prediction effect."
   ]
  },
  {
   "cell_type": "code",
   "execution_count": 6,
   "metadata": {
    "collapsed": true
   },
   "outputs": [],
   "source": [
    "model.compile(loss='binary_crossentropy', \n",
    "              optimizer=optimizers.RMSprop(lr=1e-4),\n",
    "              metrics=['acc'])"
   ]
  },
  {
   "cell_type": "markdown",
   "metadata": {},
   "source": [
    "#### Data Preprocessing"
   ]
  },
  {
   "cell_type": "markdown",
   "metadata": {},
   "source": [
    "(1) Read the image file.\n",
    "\n",
    "(2) Decode the JPEG file into an RGB pixel grid.\n",
    "\n",
    "(3) Convert these pixel grids to floating-point tensors.\n",
    "\n",
    "(4) Scale the pixel value (in the range of 0 ~ 255) to [0, 1]."
   ]
  },
  {
   "cell_type": "code",
   "execution_count": 7,
   "metadata": {
    "collapsed": true
   },
   "outputs": [],
   "source": [
    "from keras.preprocessing.image import ImageDataGenerator"
   ]
  },
  {
   "cell_type": "code",
   "execution_count": 8,
   "metadata": {},
   "outputs": [
    {
     "name": "stdout",
     "output_type": "stream",
     "text": [
      "Found 2000 images belonging to 2 classes.\n",
      "Found 1000 images belonging to 2 classes.\n"
     ]
    }
   ],
   "source": [
    "# Use ImageDataGenerator to read image from directory and implement batch data enhancement\n",
    "train_datagen = ImageDataGenerator(rescale = 1./255)\n",
    "test_datagen = ImageDataGenerator(rescale = 1./255)\n",
    "# Create training dataset ImageGenerator, which has 1000 for dogs and 1000 for cats\n",
    "# Obtain the directory path and generate a batch of enhanced data\n",
    "train_generator = train_datagen.flow_from_directory(\n",
    "                    'data/train',\n",
    "                    target_size = (150,150),\n",
    "                    batch_size = 20,\n",
    "                    class_mode = 'binary')\n",
    "\n",
    "# Create test dataset ImageGenerator, which has 500 for dogs and 500 for cats\n",
    "# Obtain the directory path and generate a batch of enhanced data\n",
    "test_generator = test_datagen.flow_from_directory(\n",
    "                'data/test',\n",
    "                target_size = (150,150),\n",
    "                batch_size = 20,\n",
    "                class_mode = 'binary')"
   ]
  },
  {
   "cell_type": "code",
   "execution_count": 9,
   "metadata": {},
   "outputs": [
    {
     "name": "stdout",
     "output_type": "stream",
     "text": [
      "data_batch.shape:(20, 150, 150, 3)\n",
      "labels_batch.shape:(20,)\n"
     ]
    }
   ],
   "source": [
    "for data_batch, labels_batch in train_generator:\n",
    "    print(f'data_batch.shape:{data_batch.shape}')\n",
    "    print(f'labels_batch.shape:{labels_batch.shape}')\n",
    "    break"
   ]
  },
  {
   "cell_type": "markdown",
   "metadata": {},
   "source": [
    "#### Model Training"
   ]
  },
  {
   "cell_type": "markdown",
   "metadata": {},
   "source": [
    "https://keras.io/zh/models/model/"
   ]
  },
  {
   "cell_type": "markdown",
   "metadata": {},
   "source": [
    "keras.models.fit(\n",
    "self,\n",
    "\n",
    "x=None, #训练数据\n",
    "\n",
    "y=None, #训练数据label标签\n",
    "\n",
    "batch_size=None, #每经过多少个sample更新一次权重，defult 32\n",
    "\n",
    "epochs=1, #训练的轮数epochs\n",
    "\n",
    "verbose=1, 0为不在标准输出流输出日志信息，1为输出进度条记录，2为每个epoch输出一行记录\n",
    "\n",
    "callbacks=None\n",
    "\n",
    "list，list中的元素为keras.callbacks.Callback对象，在训练过程中会调用list中的回调函数\n",
    "\n",
    "validation_split=0., #浮点数0-1，将训练集中的一部分比例作为验证集，然后下面的验证集validation_data将不会起到作用\n",
    "\n",
    "validation_data=None, #验证集\n",
    "\n",
    "shuffle=True, 布尔值和字符串，如果为布尔值，表示是否在每一次epoch训练前随机打乱输入样本的顺序，如果为\"batch\"，为处理HDF5数据\n",
    "\n",
    "class_weight=None,\n",
    "\n",
    "initial_epoch=0, 如果之前做了训练，则可以从指定的epoch开始训练\n",
    "\n",
    "steps_per_epoch=None, 将一个epoch分为多少个steps，也就是划分一个batch_size多大，比如steps_per_epoch=10，则就是将训练集分为10份，不能和batch_size共同使用\n",
    "\n",
    "返回的是一个History对象，可以通过History.history来查看训练过程，loss值等等"
   ]
  },
  {
   "cell_type": "code",
   "execution_count": 10,
   "metadata": {},
   "outputs": [
    {
     "name": "stdout",
     "output_type": "stream",
     "text": [
      "Epoch 1/30\n",
      "50/50 [==============================] - 29s 577ms/step - loss: 0.6922 - acc: 0.5350 - val_loss: 0.6703 - val_acc: 0.6030\n",
      "Epoch 2/30\n",
      "50/50 [==============================] - 30s 592ms/step - loss: 0.6839 - acc: 0.5640 - val_loss: 0.6921 - val_acc: 0.5830\n",
      "Epoch 3/30\n",
      "50/50 [==============================] - 30s 593ms/step - loss: 0.6647 - acc: 0.5610 - val_loss: 0.7449 - val_acc: 0.6220\n",
      "Epoch 4/30\n",
      "50/50 [==============================] - 30s 600ms/step - loss: 0.6464 - acc: 0.6290 - val_loss: 0.6410 - val_acc: 0.6380\n",
      "Epoch 5/30\n",
      "50/50 [==============================] - 30s 599ms/step - loss: 0.6163 - acc: 0.6500 - val_loss: 0.6365 - val_acc: 0.6450\n",
      "Epoch 6/30\n",
      "50/50 [==============================] - 31s 613ms/step - loss: 0.6035 - acc: 0.6620 - val_loss: 0.4824 - val_acc: 0.6260\n",
      "Epoch 7/30\n",
      "50/50 [==============================] - 30s 608ms/step - loss: 0.5685 - acc: 0.7100 - val_loss: 0.4688 - val_acc: 0.6460\n",
      "Epoch 8/30\n",
      "50/50 [==============================] - 30s 609ms/step - loss: 0.5806 - acc: 0.6810 - val_loss: 0.5348 - val_acc: 0.7020\n",
      "Epoch 9/30\n",
      "50/50 [==============================] - 31s 614ms/step - loss: 0.5341 - acc: 0.7240 - val_loss: 0.6057 - val_acc: 0.6650\n",
      "Epoch 10/30\n",
      "50/50 [==============================] - 31s 615ms/step - loss: 0.5530 - acc: 0.7310 - val_loss: 0.5735 - val_acc: 0.6920\n",
      "Epoch 11/30\n",
      "50/50 [==============================] - 30s 598ms/step - loss: 0.5143 - acc: 0.7440 - val_loss: 0.4386 - val_acc: 0.6770\n",
      "Epoch 12/30\n",
      "50/50 [==============================] - 30s 598ms/step - loss: 0.5163 - acc: 0.7380 - val_loss: 0.5954 - val_acc: 0.7090\n",
      "Epoch 13/30\n",
      "50/50 [==============================] - 29s 587ms/step - loss: 0.5112 - acc: 0.7290 - val_loss: 0.5858 - val_acc: 0.7230\n",
      "Epoch 14/30\n",
      "50/50 [==============================] - 29s 579ms/step - loss: 0.4690 - acc: 0.7820 - val_loss: 0.6753 - val_acc: 0.7140\n",
      "Epoch 15/30\n",
      "50/50 [==============================] - 28s 567ms/step - loss: 0.4710 - acc: 0.7500 - val_loss: 0.5693 - val_acc: 0.6940\n",
      "Epoch 16/30\n",
      "50/50 [==============================] - 28s 566ms/step - loss: 0.4612 - acc: 0.7760 - val_loss: 0.5407 - val_acc: 0.7240\n",
      "Epoch 17/30\n",
      "50/50 [==============================] - 28s 566ms/step - loss: 0.4514 - acc: 0.8010 - val_loss: 0.5289 - val_acc: 0.6950\n",
      "Epoch 18/30\n",
      "50/50 [==============================] - 28s 568ms/step - loss: 0.4374 - acc: 0.7980 - val_loss: 0.4690 - val_acc: 0.7010\n",
      "Epoch 19/30\n",
      "50/50 [==============================] - 28s 564ms/step - loss: 0.4098 - acc: 0.8220 - val_loss: 0.3435 - val_acc: 0.7000\n",
      "Epoch 20/30\n",
      "50/50 [==============================] - 29s 572ms/step - loss: 0.4353 - acc: 0.8030 - val_loss: 0.7205 - val_acc: 0.7180\n",
      "Epoch 21/30\n",
      "50/50 [==============================] - 29s 580ms/step - loss: 0.3851 - acc: 0.8170 - val_loss: 0.3635 - val_acc: 0.7300\n",
      "Epoch 22/30\n",
      "50/50 [==============================] - 28s 567ms/step - loss: 0.4036 - acc: 0.8130 - val_loss: 0.4974 - val_acc: 0.7410\n",
      "Epoch 23/30\n",
      "50/50 [==============================] - 28s 562ms/step - loss: 0.3718 - acc: 0.8180 - val_loss: 0.4989 - val_acc: 0.6930\n",
      "Epoch 24/30\n",
      "50/50 [==============================] - 28s 560ms/step - loss: 0.3786 - acc: 0.8260 - val_loss: 0.5824 - val_acc: 0.7100\n",
      "Epoch 25/30\n",
      "50/50 [==============================] - 28s 567ms/step - loss: 0.3341 - acc: 0.8540 - val_loss: 0.6074 - val_acc: 0.7390\n",
      "Epoch 26/30\n",
      "50/50 [==============================] - 28s 560ms/step - loss: 0.3642 - acc: 0.8400 - val_loss: 0.6911 - val_acc: 0.7080\n",
      "Epoch 27/30\n",
      "50/50 [==============================] - 28s 566ms/step - loss: 0.3267 - acc: 0.8550 - val_loss: 0.5351 - val_acc: 0.7270\n",
      "Epoch 28/30\n",
      "50/50 [==============================] - 28s 559ms/step - loss: 0.3238 - acc: 0.8570 - val_loss: 0.6297 - val_acc: 0.6830\n",
      "Epoch 29/30\n",
      "50/50 [==============================] - 29s 570ms/step - loss: 0.3025 - acc: 0.8740 - val_loss: 1.1114 - val_acc: 0.7390\n",
      "Epoch 30/30\n",
      "50/50 [==============================] - 28s 560ms/step - loss: 0.2946 - acc: 0.8690 - val_loss: 0.5682 - val_acc: 0.7570\n"
     ]
    }
   ],
   "source": [
    "history = model.fit_generator(train_generator,\n",
    "                              steps_per_epoch=50,\n",
    "                              epochs=30,\n",
    "                              validation_data = test_generator,\n",
    "                              validation_steps = 50)"
   ]
  },
  {
   "cell_type": "markdown",
   "metadata": {},
   "source": [
    "### Model Save"
   ]
  },
  {
   "cell_type": "code",
   "execution_count": 11,
   "metadata": {
    "collapsed": true
   },
   "outputs": [],
   "source": [
    "model.save('cats_and_dogs_sample.h5')"
   ]
  },
  {
   "cell_type": "markdown",
   "metadata": {},
   "source": [
    "#### Model Evaluation"
   ]
  },
  {
   "cell_type": "code",
   "execution_count": 12,
   "metadata": {
    "collapsed": true
   },
   "outputs": [],
   "source": [
    "import matplotlib.pyplot as plt"
   ]
  },
  {
   "cell_type": "code",
   "execution_count": 13,
   "metadata": {
    "collapsed": true
   },
   "outputs": [],
   "source": [
    "acc = history.history['acc']\n",
    "val_acc = history.history['val_acc']\n",
    "loss = history.history['loss']\n",
    "val_loss = history.history['val_loss']\n"
   ]
  },
  {
   "cell_type": "code",
   "execution_count": 14,
   "metadata": {},
   "outputs": [
    {
     "data": {
      "image/png": "[encoded data removed]",
      "text/plain": [
       "<matplotlib.figure.Figure at 0x1f200819cf8>"
      ]
     },
     "metadata": {},
     "output_type": "display_data"
    }
   ],
   "source": [
    "epochs = range(1,len(acc) + 1)\n",
    "plt.plot(epochs, acc, 'bo',label = 'Training acc')\n",
    "plt.plot(epochs, val_acc, 'b', label = 'Validation acc')\n",
    "plt.title('Training and validation accuracy')\n",
    "plt.legend() # Add notes\n",
    "plt.show()"
   ]
  },
  {
   "cell_type": "code",
   "execution_count": 15,
   "metadata": {},
   "outputs": [
    {
     "data": {
      "image/png": "[encoded data removed]",
      "text/plain": [
       "<matplotlib.figure.Figure at 0x1f200819c18>"
      ]
     },
     "metadata": {},
     "output_type": "display_data"
    }
   ],
   "source": [
    "plt.figure()\n",
    "\n",
    "plt.plot(epochs, loss, 'bo', label = 'Training loss')\n",
    "plt.plot(epochs, val_loss, 'b', label = 'Validation loss')\n",
    "plt.title('Training and validation loss')\n",
    "plt.legend()\n",
    "plt.show()"
   ]
  }
 ],
 "metadata": {
  "kernelspec": {
   "display_name": "Python 3",
   "language": "python",
   "name": "python3"
  },
  "language_info": {
   "codemirror_mode": {
    "name": "ipython",
    "version": 3
   },
   "file_extension": ".py",
   "mimetype": "text/x-python",
   "name": "python",
   "nbconvert_exporter": "python",
   "pygments_lexer": "ipython3",
   "version": "3.6.10"
  }
 },
 "nbformat": 4,
 "nbformat_minor": 2
}
