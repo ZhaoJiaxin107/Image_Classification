{
 "cells": [
  {
   "cell_type": "markdown",
   "metadata": {},
   "source": [
    "## Basic Deep Learning"
   ]
  },
  {
   "cell_type": "markdown",
   "metadata": {},
   "source": [
    "#### Cats and dogs classification"
   ]
  },
  {
   "cell_type": "markdown",
   "metadata": {},
   "source": [
    "#### Prepare for dataset"
   ]
  },
  {
   "cell_type": "code",
   "execution_count": 1,
   "metadata": {
    "collapsed": true
   },
   "outputs": [],
   "source": [
    "import os,shutil\n",
    "\n",
    "# download dataset from kaggle and unzip it\n",
    "original_dataset_dir = 'C:/Users/zjiax/Desktop/Projects/dogs_cats_classification/train/'\n",
    "\n",
    "# set the name of each level of the dataset\n",
    "base_dir = 'data'\n",
    "data_dirs = ['train','validation','test']\n",
    "class_dirs = ['cat','dog']\n",
    "\n",
    "# select appropriate  number of pictures to train/validation/test\n",
    "images = {\n",
    "    'train':[0,1000],\n",
    "    'validation':[1000,1500],\n",
    "    'test':[1500,2000],\n",
    "}"
   ]
  },
  {
   "cell_type": "code",
   "execution_count": 2,
   "metadata": {
    "collapsed": true
   },
   "outputs": [],
   "source": [
    "for d in data_dirs:\n",
    "    for c in class_dirs:\n",
    "        # construct the catalogue, e.g.'data/train/dog'\n",
    "        dataset_dir = f\"{base_dir}/{d}/{c}/\"\n",
    "        \n",
    "        #The os.makedirs () method is used to create directories recursively\n",
    "        os.makedirs(dataset_dir,exist_ok=True)\n",
    "        \n",
    "        # construct file name e.g.'cat.1.jpg'\n",
    "        fnames = [f'{c}.{i}.jpg' for i in range(images[d][0],images[d][1])]\n",
    "        \n",
    "        #copy the selected images into corresponding dataset catalogue\n",
    "        for fname in fnames:\n",
    "            shutil.copyfile(original_dataset_dir + fname, dataset_dir + fname)"
   ]
  },
  {
   "cell_type": "markdown",
   "metadata": {},
   "source": [
    "#### Construct Convolutional Neural Network Model"
   ]
  },
  {
   "cell_type": "code",
   "execution_count": 4,
   "metadata": {},
   "outputs": [
    {
     "name": "stderr",
     "output_type": "stream",
     "text": [
      "Using TensorFlow backend.\n"
     ]
    }
   ],
   "source": [
    "from keras import models, layers, optimizers"
   ]
  },
  {
   "cell_type": "code",
   "execution_count": 8,
   "metadata": {
    "collapsed": true
   },
   "outputs": [],
   "source": [
    "model = models.Sequential()\n",
    "\n",
    "model.add(layers.Conv2D(32,(3,3),activation = 'relu',input_shape = (150,150,3)))\n",
    "model.add(layers.MaxPooling2D((2,2)))\n",
    "\n",
    "model.add(layers.Conv2D(64,(3,3),activation = 'relu'))\n",
    "model.add(layers.MaxPooling2D((2,2)))\n",
    "          \n",
    "model.add(layers.Conv2D(128,(3,3),activation = 'relu'))\n",
    "model.add(layers.MaxPooling2D((2,2)))\n",
    "          \n",
    "model.add(layers.Conv2D(128,(3,3),activation = 'relu'))\n",
    "model.add(layers.MaxPooling2D((2,2)))\n",
    "model.add(layers.Flatten())\n",
    "          \n",
    "model.add(layers.Dense(512,activation='relu'))\n",
    "model.add(layers.Dense(1,activation='sigmoid'))"
   ]
  },
  {
   "cell_type": "markdown",
   "metadata": {},
   "source": [
    "#### Model Visualization"
   ]
  },
  {
   "cell_type": "code",
   "execution_count": 9,
   "metadata": {},
   "outputs": [
    {
     "name": "stdout",
     "output_type": "stream",
     "text": [
      "Model: \"sequential_1\"\n",
      "_________________________________________________________________\n",
      "Layer (type)                 Output Shape              Param #   \n",
      "=================================================================\n",
      "conv2d_1 (Conv2D)            (None, 148, 148, 32)      896       \n",
      "_________________________________________________________________\n",
      "max_pooling2d_1 (MaxPooling2 (None, 74, 74, 32)        0         \n",
      "_________________________________________________________________\n",
      "conv2d_2 (Conv2D)            (None, 72, 72, 64)        18496     \n",
      "_________________________________________________________________\n",
      "max_pooling2d_2 (MaxPooling2 (None, 36, 36, 64)        0         \n",
      "_________________________________________________________________\n",
      "conv2d_3 (Conv2D)            (None, 34, 34, 128)       73856     \n",
      "_________________________________________________________________\n",
      "max_pooling2d_3 (MaxPooling2 (None, 17, 17, 128)       0         \n",
      "_________________________________________________________________\n",
      "conv2d_4 (Conv2D)            (None, 15, 15, 128)       147584    \n",
      "_________________________________________________________________\n",
      "max_pooling2d_4 (MaxPooling2 (None, 7, 7, 128)         0         \n",
      "_________________________________________________________________\n",
      "flatten_1 (Flatten)          (None, 6272)              0         \n",
      "_________________________________________________________________\n",
      "dense_1 (Dense)              (None, 512)               3211776   \n",
      "_________________________________________________________________\n",
      "dense_2 (Dense)              (None, 1)                 513       \n",
      "=================================================================\n",
      "Total params: 3,453,121\n",
      "Trainable params: 3,453,121\n",
      "Non-trainable params: 0\n",
      "_________________________________________________________________\n"
     ]
    }
   ],
   "source": [
    "model.summary()"
   ]
  },
  {
   "cell_type": "markdown",
   "metadata": {},
   "source": [
    "#### Model Compiling"
   ]
  },
  {
   "cell_type": "markdown",
   "metadata": {},
   "source": [
    "#### Arguments\n",
    "optimizer: String (name of optimizer) or optimizer instance.\n",
    "\n",
    "loss: String (name of objective function) or objective function.\n",
    "    If the model has multiple outputs, you can use a different loss\n",
    "    on each output by passing a dictionary or a list of losses.\n",
    "        \n",
    "metrics: List of metrics to be evaluated by the model during training and testing.\n",
    "      Typically you will use `metrics=['accuracy']`.\n",
    "       To specify different metrics for different outputs of a multi-output model, you could also pass A a dictionary."
   ]
  },
  {
   "cell_type": "markdown",
   "metadata": {},
   "source": [
    "In linear regression problems, MSE (Mean Squared Error) is often used as the loss function, and cross entropy is often used as the loss function in the classification problem. "
   ]
  },
  {
   "cell_type": "markdown",
   "metadata": {},
   "source": [
    "Cross entropy can measure the degree of difference between two different probability distributions in the same random variable. In machine learning, it is expressed as the difference between the true probability distribution and the predicted probability distribution. The smaller the value of cross entropy, the better the model prediction effect."
   ]
  },
  {
   "cell_type": "code",
   "execution_count": 12,
   "metadata": {
    "collapsed": true
   },
   "outputs": [],
   "source": [
    "model.compile(loss='binary_crossentropy', \n",
    "              optimizer=optimizers.RMSprop(lr=1e-4),\n",
    "              metrics=['acc'])"
   ]
  },
  {
   "cell_type": "markdown",
   "metadata": {},
   "source": [
    "#### Data Preprocessing"
   ]
  },
  {
   "cell_type": "markdown",
   "metadata": {},
   "source": [
    "(1) Read the image file.\n",
    "\n",
    "(2) Decode the JPEG file into an RGB pixel grid.\n",
    "\n",
    "(3) Convert these pixel grids to floating-point tensors.\n",
    "\n",
    "(4) Scale the pixel value (in the range of 0 ~ 255) to [0, 1]."
   ]
  },
  {
   "cell_type": "code",
   "execution_count": 13,
   "metadata": {
    "collapsed": true
   },
   "outputs": [],
   "source": [
    "from keras.preprocessing.image import ImageDataGenerator"
   ]
  },
  {
   "cell_type": "code",
   "execution_count": 15,
   "metadata": {},
   "outputs": [
    {
     "name": "stdout",
     "output_type": "stream",
     "text": [
      "Found 2000 images belonging to 2 classes.\n",
      "Found 1000 images belonging to 2 classes.\n"
     ]
    }
   ],
   "source": [
    "# Use ImageDataGenerator to read image from directory and implement batch data enhancement\n",
    "train_datagen = ImageDataGenerator(rescale = 1./255)\n",
    "test_datagen = ImageDataGenerator(rescale = 1./255)\n",
    "# Create training dataset ImageGenerator, which has 1000 for dogs and 1000 for cats\n",
    "# Obtain the directory path and generate a batch of enhanced data\n",
    "train_generator = train_datagen.flow_from_directory(\n",
    "                    'data/train',\n",
    "                    target_size = (150,150),\n",
    "                    batch_size = 20,\n",
    "                    class_mode = 'binary')\n",
    "\n",
    "# Create test dataset ImageGenerator, which has 500 for dogs and 500 for cats\n",
    "# Obtain the directory path and generate a batch of enhanced data\n",
    "test_generator = test_datagen.flow_from_directory(\n",
    "                'data/test',\n",
    "                target_size = (150,150),\n",
    "                batch_size = 20,\n",
    "                class_mode = 'binary')"
   ]
  },
  {
   "cell_type": "code",
   "execution_count": 16,
   "metadata": {},
   "outputs": [
    {
     "name": "stdout",
     "output_type": "stream",
     "text": [
      "data_batch.shape:(20, 150, 150, 3)\n",
      "labels_batch.shape:(20,)\n"
     ]
    }
   ],
   "source": [
    "for data_batch, labels_batch in train_generator:\n",
    "    print(f'data_batch.shape:{data_batch.shape}')\n",
    "    print(f'labels_batch.shape:{labels_batch.shape}')\n",
    "    break"
   ]
  },
  {
   "cell_type": "markdown",
   "metadata": {},
   "source": [
    "#### Model Training"
   ]
  },
  {
   "cell_type": "markdown",
   "metadata": {},
   "source": [
    "https://keras.io/zh/models/model/"
   ]
  },
  {
   "cell_type": "markdown",
   "metadata": {},
   "source": [
    "keras.models.fit(\n",
    "self,\n",
    "x=None, #训练数据\n",
    "y=None, #训练数据label标签\n",
    "batch_size=None, #每经过多少个sample更新一次权重，defult 32\n",
    "epochs=1, #训练的轮数epochs\n",
    "verbose=1, 0为不在标准输出流输出日志信息，1为输出进度条记录，2为每个epoch输出一行记录\n",
    "callbacks=None,\n",
    "list，list中的元素为keras.callbacks.Callback对象，在训练过程中会调用list中的回调函数\n",
    "validation_split=0., #浮点数0-1，将训练集中的一部分比例作为验证集，然后下面的验证集validation_data将不会起到作用\n",
    "validation_data=None, #验证集\n",
    "shuffle=True, 布尔值和字符串，如果为布尔值，表示是否在每一次epoch训练前随机打乱输入样本的顺序，如果为\"batch\"，为处理HDF5数据\n",
    "class_weight=None, \n",
    "dict,分类问题的时候，有的类别可能需要额外关注，分错的时候给的惩罚会比较大，所以权重会调高，体现在损失函数上面\n",
    "sample_weight=None, #array,和输入样本对等长度,对输入的每个特征+个权值，如果是时序的数据，则采用(samples，sequence_length)的矩阵\n",
    "initial_epoch=0, 如果之前做了训练，则可以从指定的epoch开始训练\n",
    "steps_per_epoch=None, 将一个epoch分为多少个steps，也就是划分一个batch_size多大，比如steps_per_epoch=10，则就是将训练集分为10份，不能和batch_size共同使用\n",
    "返回的是一个History对象，可以通过History.history来查看训练过程，loss值等等"
   ]
  },
  {
   "cell_type": "code",
   "execution_count": 17,
   "metadata": {},
   "outputs": [
    {
     "name": "stdout",
     "output_type": "stream",
     "text": [
      "Epoch 1/30\n",
      "50/50 [==============================] - 36s 711ms/step - loss: 0.6920 - acc: 0.5350 - val_loss: 0.6630 - val_acc: 0.5000\n",
      "Epoch 2/30\n",
      "50/50 [==============================] - 28s 569ms/step - loss: 0.6875 - acc: 0.5500 - val_loss: 0.6774 - val_acc: 0.5270\n",
      "Epoch 3/30\n",
      "50/50 [==============================] - 30s 605ms/step - loss: 0.6615 - acc: 0.6120 - val_loss: 0.6969 - val_acc: 0.6100\n",
      "Epoch 4/30\n",
      "50/50 [==============================] - 31s 616ms/step - loss: 0.6590 - acc: 0.6150 - val_loss: 0.6306 - val_acc: 0.6470\n",
      "Epoch 5/30\n",
      "50/50 [==============================] - 31s 611ms/step - loss: 0.6397 - acc: 0.6380 - val_loss: 0.6217 - val_acc: 0.6510\n",
      "Epoch 6/30\n",
      "50/50 [==============================] - 31s 613ms/step - loss: 0.6268 - acc: 0.6530 - val_loss: 0.5834 - val_acc: 0.6520\n",
      "Epoch 7/30\n",
      "50/50 [==============================] - 30s 604ms/step - loss: 0.6031 - acc: 0.6810 - val_loss: 0.6993 - val_acc: 0.6790\n",
      "Epoch 8/30\n",
      "50/50 [==============================] - 30s 597ms/step - loss: 0.5789 - acc: 0.6970 - val_loss: 0.7507 - val_acc: 0.6940\n",
      "Epoch 9/30\n",
      "50/50 [==============================] - 30s 597ms/step - loss: 0.5566 - acc: 0.7150 - val_loss: 0.4778 - val_acc: 0.6780\n",
      "Epoch 10/30\n",
      "50/50 [==============================] - 30s 601ms/step - loss: 0.5519 - acc: 0.7190 - val_loss: 0.6557 - val_acc: 0.6800\n",
      "Epoch 11/30\n",
      "50/50 [==============================] - 30s 595ms/step - loss: 0.5076 - acc: 0.7590 - val_loss: 0.8948 - val_acc: 0.6960\n",
      "Epoch 12/30\n",
      "50/50 [==============================] - 30s 599ms/step - loss: 0.5222 - acc: 0.7470 - val_loss: 0.6500 - val_acc: 0.6400\n",
      "Epoch 13/30\n",
      "50/50 [==============================] - 30s 605ms/step - loss: 0.4741 - acc: 0.7810 - val_loss: 0.8081 - val_acc: 0.6950\n",
      "Epoch 14/30\n",
      "50/50 [==============================] - 31s 615ms/step - loss: 0.4885 - acc: 0.7640 - val_loss: 0.6240 - val_acc: 0.6890\n",
      "Epoch 15/30\n",
      "50/50 [==============================] - 30s 603ms/step - loss: 0.4434 - acc: 0.7920 - val_loss: 0.8176 - val_acc: 0.7170\n",
      "Epoch 16/30\n",
      "50/50 [==============================] - 30s 595ms/step - loss: 0.4477 - acc: 0.7830 - val_loss: 0.4507 - val_acc: 0.7200\n",
      "Epoch 17/30\n",
      "50/50 [==============================] - 29s 586ms/step - loss: 0.4086 - acc: 0.8140 - val_loss: 0.4833 - val_acc: 0.7360\n",
      "Epoch 18/30\n",
      "50/50 [==============================] - 34s 678ms/step - loss: 0.4216 - acc: 0.8050 - val_loss: 0.5929 - val_acc: 0.7220\n",
      "Epoch 19/30\n",
      "50/50 [==============================] - 31s 621ms/step - loss: 0.3696 - acc: 0.8290 - val_loss: 0.4612 - val_acc: 0.7210\n",
      "Epoch 20/30\n",
      "50/50 [==============================] - 31s 624ms/step - loss: 0.4115 - acc: 0.8130 - val_loss: 0.6589 - val_acc: 0.7120\n",
      "Epoch 21/30\n",
      "50/50 [==============================] - 32s 630ms/step - loss: 0.3773 - acc: 0.8290 - val_loss: 0.8273 - val_acc: 0.7060\n",
      "Epoch 22/30\n",
      "50/50 [==============================] - 32s 642ms/step - loss: 0.3521 - acc: 0.8470 - val_loss: 0.8135 - val_acc: 0.7400\n",
      "Epoch 23/30\n",
      "50/50 [==============================] - 33s 664ms/step - loss: 0.3174 - acc: 0.8640 - val_loss: 0.6122 - val_acc: 0.6620\n",
      "Epoch 24/30\n",
      "50/50 [==============================] - 33s 667ms/step - loss: 0.3464 - acc: 0.8540 - val_loss: 0.3679 - val_acc: 0.7320\n",
      "Epoch 25/30\n",
      "50/50 [==============================] - 30s 608ms/step - loss: 0.3026 - acc: 0.8740 - val_loss: 0.2660 - val_acc: 0.7430\n",
      "Epoch 26/30\n",
      "50/50 [==============================] - 31s 630ms/step - loss: 0.3153 - acc: 0.8630 - val_loss: 0.8057 - val_acc: 0.7250\n",
      "Epoch 27/30\n",
      "50/50 [==============================] - 30s 600ms/step - loss: 0.3000 - acc: 0.8700 - val_loss: 0.3755 - val_acc: 0.6850\n",
      "Epoch 28/30\n",
      "50/50 [==============================] - 30s 598ms/step - loss: 0.2739 - acc: 0.8930 - val_loss: 0.3161 - val_acc: 0.7470\n",
      "Epoch 29/30\n",
      "50/50 [==============================] - 30s 608ms/step - loss: 0.2645 - acc: 0.8860 - val_loss: 0.5817 - val_acc: 0.7210\n",
      "Epoch 30/30\n",
      "50/50 [==============================] - 32s 644ms/step - loss: 0.2559 - acc: 0.8940 - val_loss: 0.9421 - val_acc: 0.7240\n"
     ]
    }
   ],
   "source": [
    "history = model.fit_generator(train_generator,\n",
    "                              steps_per_epoch=50,\n",
    "                              epochs=30,\n",
    "                              validation_data = test_generator,\n",
    "                              validation_steps = 50)"
   ]
  },
  {
   "cell_type": "markdown",
   "metadata": {},
   "source": [
    "### Model Save"
   ]
  },
  {
   "cell_type": "code",
   "execution_count": 28,
   "metadata": {
    "collapsed": true
   },
   "outputs": [],
   "source": [
    "model.save('cats_and_dogs_sample.h5')"
   ]
  },
  {
   "cell_type": "markdown",
   "metadata": {},
   "source": [
    "#### Model Evaluation"
   ]
  },
  {
   "cell_type": "code",
   "execution_count": 18,
   "metadata": {
    "collapsed": true
   },
   "outputs": [],
   "source": [
    "import matplotlib.pyplot as plt"
   ]
  },
  {
   "cell_type": "code",
   "execution_count": 19,
   "metadata": {
    "collapsed": true
   },
   "outputs": [],
   "source": [
    "acc = history.history['acc']\n",
    "val_acc = history.history['val_acc']\n",
    "loss = history.history['loss']\n",
    "val_loss = history.history['val_loss']\n"
   ]
  },
  {
   "cell_type": "code",
   "execution_count": 27,
   "metadata": {},
   "outputs": [
    {
     "data": {
      "image/png": "[encoded data removed]",
      "text/plain": [
       "<matplotlib.figure.Figure at 0x2993d9147f0>"
      ]
     },
     "metadata": {},
     "output_type": "display_data"
    }
   ],
   "source": [
    "epochs = range(1,len(acc) + 1)\n",
    "plt.plot(epochs, acc, 'bo',label = 'Training acc')\n",
    "plt.plot(epochs, val_acc, 'b', label = 'Validation acc')\n",
    "plt.title('Training and validation accuracy')\n",
    "plt.legend() # Add notes\n",
    "plt.show()"
   ]
  },
  {
   "cell_type": "code",
   "execution_count": 26,
   "metadata": {},
   "outputs": [
    {
     "data": {
      "image/png": "[encoded data removed]",
      "text/plain": [
       "<matplotlib.figure.Figure at 0x2993d914438>"
      ]
     },
     "metadata": {},
     "output_type": "display_data"
    }
   ],
   "source": [
    "plt.figure()\n",
    "\n",
    "plt.plot(epochs, loss, 'bo', label = 'Training loss')\n",
    "plt.plot(epochs, val_loss, 'b', label = 'Validation loss')\n",
    "plt.title('Training and validation loss')\n",
    "plt.legend()\n",
    "plt.show()"
   ]
  },
  {
   "cell_type": "code",
   "execution_count": null,
   "metadata": {
    "collapsed": true
   },
   "outputs": [],
   "source": []
  }
 ],
 "metadata": {
  "kernelspec": {
   "display_name": "Python 3",
   "language": "python",
   "name": "python3"
  },
  "language_info": {
   "codemirror_mode": {
    "name": "ipython",
    "version": 3
   },
   "file_extension": ".py",
   "mimetype": "text/x-python",
   "name": "python",
   "nbconvert_exporter": "python",
   "pygments_lexer": "ipython3",
   "version": "3.6.10"
  }
 },
 "nbformat": 4,
 "nbformat_minor": 2
}
