{
 "cells": [
  {
   "cell_type": "code",
   "execution_count": 1,
   "metadata": {},
   "outputs": [
    {
     "name": "stderr",
     "output_type": "stream",
     "text": [
      "Using TensorFlow backend.\n"
     ]
    }
   ],
   "source": [
    "import os\n",
    "import keras\n",
    "\n",
    "import numpy as np\n",
    "\n",
    "from keras import models, layers\n",
    "from keras import optimizers\n",
    "from keras.datasets import imdb"
   ]
  },
  {
   "cell_type": "code",
   "execution_count": 2,
   "metadata": {},
   "outputs": [],
   "source": [
    "(train_data, train_labels), (test_data, test_labels) = imdb.load_data(path=os.getcwd()+'/imdb.npz', num_words=10000)"
   ]
  },
  {
   "cell_type": "code",
   "execution_count": 3,
   "metadata": {},
   "outputs": [],
   "source": [
    "def vectorize(seqs, dim=10000):\n",
    "    ret = np.zeros((len(seqs), dim))\n",
    "    for i, seq in enumerate(seqs):\n",
    "        ret[i, seq] = 1\n",
    "    return ret\n",
    "\n",
    "x_train = vectorize(train_data)\n",
    "x_test = vectorize(test_data)\n",
    "\n",
    "y_train = np.asarray(train_labels).astype('float32')\n",
    "y_test = np.asarray(test_labels).astype('float32')\n",
    "\n",
    "x_val = x_train[:10000]\n",
    "partial_x_train = x_train[10000:]\n",
    "y_val = y_train[:10000]\n",
    "partial_y_train = y_train[10000:]\n",
    "\n",
    "\n",
    "batch_size = 128\n",
    "num_classes = 10\n",
    "epochs = 20"
   ]
  },
  {
   "cell_type": "markdown",
   "metadata": {},
   "source": [
    "## Original Model"
   ]
  },
  {
   "cell_type": "code",
   "execution_count": 4,
   "metadata": {},
   "outputs": [
    {
     "name": "stderr",
     "output_type": "stream",
     "text": [
      "WARNING: Logging before flag parsing goes to stderr.\n",
      "W0916 09:23:32.504304 140736253780864 deprecation_wrapper.py:119] From /Users/django/.pyenv/Versions/3.6.8/lib/python3.6/site-packages/keras/backend/tensorflow_backend.py:66: The name tf.get_default_graph is deprecated. Please use tf.compat.v1.get_default_graph instead.\n",
      "\n",
      "W0916 09:23:32.541064 140736253780864 deprecation_wrapper.py:119] From /Users/django/.pyenv/Versions/3.6.8/lib/python3.6/site-packages/keras/backend/tensorflow_backend.py:541: The name tf.placeholder is deprecated. Please use tf.compat.v1.placeholder instead.\n",
      "\n",
      "W0916 09:23:32.553480 140736253780864 deprecation_wrapper.py:119] From /Users/django/.pyenv/Versions/3.6.8/lib/python3.6/site-packages/keras/backend/tensorflow_backend.py:4432: The name tf.random_uniform is deprecated. Please use tf.random.uniform instead.\n",
      "\n",
      "W0916 09:23:32.647280 140736253780864 deprecation_wrapper.py:119] From /Users/django/.pyenv/Versions/3.6.8/lib/python3.6/site-packages/keras/optimizers.py:793: The name tf.train.Optimizer is deprecated. Please use tf.compat.v1.train.Optimizer instead.\n",
      "\n",
      "W0916 09:23:32.655206 140736253780864 deprecation_wrapper.py:119] From /Users/django/.pyenv/Versions/3.6.8/lib/python3.6/site-packages/keras/backend/tensorflow_backend.py:3657: The name tf.log is deprecated. Please use tf.math.log instead.\n",
      "\n",
      "W0916 09:23:32.666900 140736253780864 deprecation.py:323] From /Users/django/.pyenv/Versions/3.6.8/lib/python3.6/site-packages/tensorflow/python/ops/nn_impl.py:180: add_dispatch_support.<locals>.wrapper (from tensorflow.python.ops.array_ops) is deprecated and will be removed in a future version.\n",
      "Instructions for updating:\n",
      "Use tf.where in 2.0, which has the same broadcast rule as np.where\n",
      "W0916 09:23:33.008783 140736253780864 deprecation_wrapper.py:119] From /Users/django/.pyenv/Versions/3.6.8/lib/python3.6/site-packages/keras/backend/tensorflow_backend.py:1033: The name tf.assign_add is deprecated. Please use tf.compat.v1.assign_add instead.\n",
      "\n"
     ]
    },
    {
     "name": "stdout",
     "output_type": "stream",
     "text": [
      "Train on 15000 samples, validate on 10000 samples\n",
      "Epoch 1/20\n",
      "15000/15000 [==============================] - 5s 319us/step - loss: 0.3990 - acc: 0.8351 - val_loss: 0.2867 - val_acc: 0.8869\n",
      "Epoch 2/20\n",
      "15000/15000 [==============================] - 2s 140us/step - loss: 0.2110 - acc: 0.9211 - val_loss: 0.3222 - val_acc: 0.8706\n",
      "Epoch 3/20\n",
      "15000/15000 [==============================] - 2s 162us/step - loss: 0.1509 - acc: 0.9457 - val_loss: 0.3180 - val_acc: 0.8789\n",
      "Epoch 4/20\n",
      "15000/15000 [==============================] - 2s 155us/step - loss: 0.1118 - acc: 0.9591 - val_loss: 0.3897 - val_acc: 0.8691\n",
      "Epoch 5/20\n",
      "15000/15000 [==============================] - 3s 174us/step - loss: 0.0832 - acc: 0.9716 - val_loss: 0.3869 - val_acc: 0.8782\n",
      "Epoch 6/20\n",
      "15000/15000 [==============================] - 3s 170us/step - loss: 0.0603 - acc: 0.9793 - val_loss: 0.4335 - val_acc: 0.8766\n",
      "Epoch 7/20\n",
      "15000/15000 [==============================] - 3s 190us/step - loss: 0.0414 - acc: 0.9864 - val_loss: 0.5097 - val_acc: 0.8718\n",
      "Epoch 8/20\n",
      "15000/15000 [==============================] - 2s 146us/step - loss: 0.0271 - acc: 0.9917 - val_loss: 0.5774 - val_acc: 0.8719\n",
      "Epoch 9/20\n",
      "15000/15000 [==============================] - 2s 149us/step - loss: 0.0177 - acc: 0.9947 - val_loss: 0.6761 - val_acc: 0.8674\n",
      "Epoch 10/20\n",
      "15000/15000 [==============================] - 3s 184us/step - loss: 0.0103 - acc: 0.9971 - val_loss: 0.7390 - val_acc: 0.8663\n",
      "Epoch 11/20\n",
      "15000/15000 [==============================] - 3s 175us/step - loss: 0.0054 - acc: 0.9992 - val_loss: 0.8481 - val_acc: 0.8646\n",
      "Epoch 12/20\n",
      "15000/15000 [==============================] - 2s 152us/step - loss: 0.0040 - acc: 0.9994 - val_loss: 0.9071 - val_acc: 0.8643\n",
      "Epoch 13/20\n",
      "15000/15000 [==============================] - 3s 176us/step - loss: 0.0015 - acc: 0.9999 - val_loss: 1.0021 - val_acc: 0.8646\n",
      "Epoch 14/20\n",
      "15000/15000 [==============================] - 2s 152us/step - loss: 9.9472e-04 - acc: 0.9998 - val_loss: 1.0746 - val_acc: 0.8629\n",
      "Epoch 15/20\n",
      "15000/15000 [==============================] - 2s 166us/step - loss: 7.6339e-04 - acc: 0.9997 - val_loss: 1.1193 - val_acc: 0.8634\n",
      "Epoch 16/20\n",
      "15000/15000 [==============================] - 3s 170us/step - loss: 3.0426e-04 - acc: 1.0000 - val_loss: 1.1586 - val_acc: 0.8636\n",
      "Epoch 17/20\n",
      "15000/15000 [==============================] - 3s 173us/step - loss: 2.0221e-04 - acc: 0.9999 - val_loss: 1.2009 - val_acc: 0.8631\n",
      "Epoch 18/20\n",
      "15000/15000 [==============================] - 2s 157us/step - loss: 4.6814e-04 - acc: 0.9999 - val_loss: 1.2512 - val_acc: 0.8632\n",
      "Epoch 19/20\n",
      "15000/15000 [==============================] - 2s 137us/step - loss: 3.6340e-04 - acc: 0.9999 - val_loss: 1.2857 - val_acc: 0.8619\n",
      "Epoch 20/20\n",
      "15000/15000 [==============================] - 2s 143us/step - loss: 1.1044e-05 - acc: 1.0000 - val_loss: 1.3403 - val_acc: 0.8602\n"
     ]
    }
   ],
   "source": [
    "model = models.Sequential()\n",
    "model.add(layers.Dense(16, activation='relu', input_shape=(10000,)))\n",
    "model.add(layers.Dense(16, activation='relu'))\n",
    "model.add(layers.Dense(1, activation='sigmoid'))\n",
    "\n",
    "\n",
    "model.compile(loss='binary_crossentropy',\n",
    "              optimizer=optimizers.RMSprop(lr=0.001),\n",
    "              metrics=['accuracy'])\n",
    "\n",
    "history = model.fit(partial_x_train,\n",
    "                    partial_y_train,\n",
    "                    batch_size=batch_size,\n",
    "                    epochs=epochs,\n",
    "                    verbose=1,\n",
    "                    validation_data=(x_val, y_val))"
   ]
  },
  {
   "cell_type": "code",
   "execution_count": 5,
   "metadata": {},
   "outputs": [],
   "source": [
    "history_dict = history.history\n",
    "m_model_loss = history_dict['val_loss']"
   ]
  },
  {
   "cell_type": "markdown",
   "metadata": {},
   "source": [
    "## Large Model"
   ]
  },
  {
   "cell_type": "code",
   "execution_count": 6,
   "metadata": {},
   "outputs": [
    {
     "name": "stdout",
     "output_type": "stream",
     "text": [
      "Train on 15000 samples, validate on 10000 samples\n",
      "Epoch 1/20\n",
      "15000/15000 [==============================] - 15s 1ms/step - loss: 0.3929 - acc: 0.8305 - val_loss: 0.2852 - val_acc: 0.8816\n",
      "Epoch 2/20\n",
      "15000/15000 [==============================] - 13s 878us/step - loss: 0.1622 - acc: 0.9403 - val_loss: 0.4071 - val_acc: 0.8496\n",
      "Epoch 3/20\n",
      "15000/15000 [==============================] - 13s 883us/step - loss: 0.0600 - acc: 0.9808 - val_loss: 0.5114 - val_acc: 0.8826\n",
      "Epoch 4/20\n",
      "15000/15000 [==============================] - 13s 854us/step - loss: 0.0223 - acc: 0.9945 - val_loss: 0.7565 - val_acc: 0.8776\n",
      "Epoch 5/20\n",
      "15000/15000 [==============================] - 13s 864us/step - loss: 0.0274 - acc: 0.9947 - val_loss: 0.8172 - val_acc: 0.8803\n",
      "Epoch 6/20\n",
      "15000/15000 [==============================] - 14s 927us/step - loss: 0.0269 - acc: 0.9964 - val_loss: 0.8231 - val_acc: 0.8779\n",
      "Epoch 7/20\n",
      "15000/15000 [==============================] - 16s 1ms/step - loss: 0.0157 - acc: 0.9972 - val_loss: 0.8914 - val_acc: 0.8790\n",
      "Epoch 8/20\n",
      "15000/15000 [==============================] - 16s 1ms/step - loss: 0.0149 - acc: 0.9977 - val_loss: 0.9764 - val_acc: 0.8731\n",
      "Epoch 9/20\n",
      "15000/15000 [==============================] - 14s 960us/step - loss: 0.0140 - acc: 0.9977 - val_loss: 0.9864 - val_acc: 0.8649\n",
      "Epoch 10/20\n",
      "15000/15000 [==============================] - 20s 1ms/step - loss: 0.0082 - acc: 0.9986 - val_loss: 0.8913 - val_acc: 0.8735\n",
      "Epoch 11/20\n",
      "15000/15000 [==============================] - 22s 1ms/step - loss: 0.0224 - acc: 0.9966 - val_loss: 0.8833 - val_acc: 0.8691\n",
      "Epoch 12/20\n",
      "15000/15000 [==============================] - 21s 1ms/step - loss: 0.0125 - acc: 0.9982 - val_loss: 0.9559 - val_acc: 0.8632\n",
      "Epoch 13/20\n",
      "15000/15000 [==============================] - 20s 1ms/step - loss: 0.0198 - acc: 0.9971 - val_loss: 1.0596 - val_acc: 0.8660\n",
      "Epoch 14/20\n",
      "15000/15000 [==============================] - 20s 1ms/step - loss: 0.0039 - acc: 0.9994 - val_loss: 1.1509 - val_acc: 0.8648\n",
      "Epoch 15/20\n",
      "15000/15000 [==============================] - 18s 1ms/step - loss: 0.0072 - acc: 0.9988 - val_loss: 1.0453 - val_acc: 0.8696\n",
      "Epoch 16/20\n",
      "15000/15000 [==============================] - 18s 1ms/step - loss: 0.0065 - acc: 0.9992 - val_loss: 1.0603 - val_acc: 0.8720\n",
      "Epoch 17/20\n",
      "15000/15000 [==============================] - 16s 1ms/step - loss: 0.0118 - acc: 0.9986 - val_loss: 1.0545 - val_acc: 0.8698\n",
      "Epoch 18/20\n",
      "15000/15000 [==============================] - 16s 1ms/step - loss: 0.0248 - acc: 0.9970 - val_loss: 0.9243 - val_acc: 0.8668\n",
      "Epoch 19/20\n",
      "15000/15000 [==============================] - 17s 1ms/step - loss: 0.0093 - acc: 0.9989 - val_loss: 1.1254 - val_acc: 0.8658\n",
      "Epoch 20/20\n",
      "15000/15000 [==============================] - 15s 1ms/step - loss: 0.0235 - acc: 0.9977 - val_loss: 1.0227 - val_acc: 0.8730\n"
     ]
    }
   ],
   "source": [
    "model = models.Sequential()\n",
    "model.add(layers.Dense(512, activation='relu', input_shape=(10000,)))\n",
    "model.add(layers.Dense(512, activation='relu'))\n",
    "model.add(layers.Dense(1, activation='sigmoid'))\n",
    "\n",
    "\n",
    "model.compile(loss='binary_crossentropy',\n",
    "              optimizer=optimizers.RMSprop(lr=0.001),\n",
    "              metrics=['accuracy'])\n",
    "\n",
    "history = model.fit(partial_x_train,\n",
    "                    partial_y_train,\n",
    "                    batch_size=batch_size,\n",
    "                    epochs=epochs,\n",
    "                    verbose=1,\n",
    "                    validation_data=(x_val, y_val))"
   ]
  },
  {
   "cell_type": "code",
   "execution_count": 7,
   "metadata": {},
   "outputs": [],
   "source": [
    "history_dict = history.history\n",
    "l_model_loss = history_dict['val_loss']"
   ]
  },
  {
   "cell_type": "markdown",
   "metadata": {},
   "source": [
    "## Small Model"
   ]
  },
  {
   "cell_type": "code",
   "execution_count": 12,
   "metadata": {},
   "outputs": [
    {
     "name": "stdout",
     "output_type": "stream",
     "text": [
      "Train on 15000 samples, validate on 10000 samples\n",
      "Epoch 1/20\n",
      "15000/15000 [==============================] - 3s 207us/step - loss: 0.6156 - acc: 0.7041 - val_loss: 0.5527 - val_acc: 0.8447\n",
      "Epoch 2/20\n",
      "15000/15000 [==============================] - 2s 157us/step - loss: 0.4982 - acc: 0.8437 - val_loss: 0.4795 - val_acc: 0.8474\n",
      "Epoch 3/20\n",
      "15000/15000 [==============================] - 2s 156us/step - loss: 0.4288 - acc: 0.8935 - val_loss: 0.4504 - val_acc: 0.8522\n",
      "Epoch 4/20\n",
      "15000/15000 [==============================] - 2s 166us/step - loss: 0.3797 - acc: 0.9171 - val_loss: 0.4347 - val_acc: 0.8627\n",
      "Epoch 5/20\n",
      "15000/15000 [==============================] - 3s 168us/step - loss: 0.3407 - acc: 0.9331 - val_loss: 0.4191 - val_acc: 0.8727\n",
      "Epoch 6/20\n",
      "15000/15000 [==============================] - 3s 185us/step - loss: 0.3073 - acc: 0.9457 - val_loss: 0.4079 - val_acc: 0.8735\n",
      "Epoch 7/20\n",
      "15000/15000 [==============================] - 3s 172us/step - loss: 0.2789 - acc: 0.9525 - val_loss: 0.4032 - val_acc: 0.8718\n",
      "Epoch 8/20\n",
      "15000/15000 [==============================] - 2s 143us/step - loss: 0.2534 - acc: 0.9594 - val_loss: 0.4266 - val_acc: 0.8692\n",
      "Epoch 9/20\n",
      "15000/15000 [==============================] - 2s 146us/step - loss: 0.2309 - acc: 0.9630 - val_loss: 0.4280 - val_acc: 0.8684\n",
      "Epoch 10/20\n",
      "15000/15000 [==============================] - 3s 173us/step - loss: 0.2107 - acc: 0.9661 - val_loss: 0.4422 - val_acc: 0.8653\n",
      "Epoch 11/20\n",
      "15000/15000 [==============================] - 2s 143us/step - loss: 0.1929 - acc: 0.9702 - val_loss: 0.4743 - val_acc: 0.8633\n",
      "Epoch 12/20\n",
      "15000/15000 [==============================] - 2s 142us/step - loss: 0.1767 - acc: 0.9723 - val_loss: 0.4668 - val_acc: 0.8621\n",
      "Epoch 13/20\n",
      "15000/15000 [==============================] - 2s 144us/step - loss: 0.1621 - acc: 0.9741 - val_loss: 0.4855 - val_acc: 0.8595\n",
      "Epoch 14/20\n",
      "15000/15000 [==============================] - 2s 144us/step - loss: 0.1489 - acc: 0.9772 - val_loss: 0.5673 - val_acc: 0.8570\n",
      "Epoch 15/20\n",
      "15000/15000 [==============================] - 3s 183us/step - loss: 0.1381 - acc: 0.9771 - val_loss: 0.5880 - val_acc: 0.8562\n",
      "Epoch 16/20\n",
      "15000/15000 [==============================] - 2s 146us/step - loss: 0.1282 - acc: 0.9793 - val_loss: 0.5902 - val_acc: 0.8570\n",
      "Epoch 17/20\n",
      "15000/15000 [==============================] - 3s 191us/step - loss: 0.1194 - acc: 0.9802 - val_loss: 0.6698 - val_acc: 0.8547\n",
      "Epoch 18/20\n",
      "15000/15000 [==============================] - 2s 148us/step - loss: 0.1118 - acc: 0.9805 - val_loss: 0.6403 - val_acc: 0.8528\n",
      "Epoch 19/20\n",
      "15000/15000 [==============================] - 2s 163us/step - loss: 0.1050 - acc: 0.9817 - val_loss: 0.6707 - val_acc: 0.8526\n",
      "Epoch 20/20\n",
      "15000/15000 [==============================] - 3s 178us/step - loss: 0.0991 - acc: 0.9818 - val_loss: 0.7059 - val_acc: 0.8509\n"
     ]
    }
   ],
   "source": [
    "model = models.Sequential()\n",
    "model.add(layers.Dense(4, activation='relu', input_shape=(10000,)))\n",
    "model.add(layers.Dense(4, activation='relu'))\n",
    "model.add(layers.Dense(1, activation='sigmoid'))\n",
    "\n",
    "\n",
    "model.compile(loss='binary_crossentropy',\n",
    "              optimizer=optimizers.RMSprop(lr=0.001),\n",
    "              metrics=['accuracy'])\n",
    "\n",
    "history = model.fit(partial_x_train,\n",
    "                    partial_y_train,\n",
    "                    batch_size=batch_size,\n",
    "                    epochs=epochs,\n",
    "                    verbose=1,\n",
    "                    validation_data=(x_val, y_val))"
   ]
  },
  {
   "cell_type": "code",
   "execution_count": 13,
   "metadata": {},
   "outputs": [],
   "source": [
    "history_dict = history.history\n",
    "s_model_loss = history_dict['val_loss']"
   ]
  },
  {
   "cell_type": "code",
   "execution_count": 14,
   "metadata": {},
   "outputs": [
    {
     "data": {
      "image/png": "[encoded data removed]",
      "text/plain": [
       "<Figure size 720x432 with 1 Axes>"
      ]
     },
     "metadata": {
      "needs_background": "light"
     },
     "output_type": "display_data"
    }
   ],
   "source": [
    "import matplotlib.pyplot as plt\n",
    "\n",
    "num_epochs = range(1, len(s_model_loss) + 1)\n",
    "\n",
    "plt.figure(figsize=(10,6))\n",
    "\n",
    "plt.plot(num_epochs, l_model_loss, 'b', label='Large Model')\n",
    "plt.plot(num_epochs, m_model_loss, 'r', label='Original Model')\n",
    "plt.plot(num_epochs, s_model_loss, 'g', label='Small Model')\n",
    "plt.xlabel('Epochs')\n",
    "plt.ylabel('Validation Loss')\n",
    "plt.legend()\n",
    "\n",
    "plt.xticks(np.arange(0, 21, step=1))\n",
    "\n",
    "plt.show()"
   ]
  },
  {
   "cell_type": "markdown",
   "metadata": {},
   "source": [
    "## 权重正则化"
   ]
  },
  {
   "cell_type": "code",
   "execution_count": 25,
   "metadata": {},
   "outputs": [
    {
     "name": "stdout",
     "output_type": "stream",
     "text": [
      "Train on 15000 samples, validate on 10000 samples\n",
      "Epoch 1/20\n",
      "15000/15000 [==============================] - 3s 222us/step - loss: 0.4718 - acc: 0.8199 - val_loss: 0.3944 - val_acc: 0.8498\n",
      "Epoch 2/20\n",
      "15000/15000 [==============================] - 2s 109us/step - loss: 0.2827 - acc: 0.9118 - val_loss: 0.3272 - val_acc: 0.8848\n",
      "Epoch 3/20\n",
      "15000/15000 [==============================] - 1s 89us/step - loss: 0.2423 - acc: 0.9269 - val_loss: 0.3421 - val_acc: 0.8782\n",
      "Epoch 4/20\n",
      "15000/15000 [==============================] - 1s 91us/step - loss: 0.2209 - acc: 0.9369 - val_loss: 0.3580 - val_acc: 0.8799\n",
      "Epoch 5/20\n",
      "15000/15000 [==============================] - 1s 94us/step - loss: 0.2124 - acc: 0.9416 - val_loss: 0.3731 - val_acc: 0.8687\n",
      "Epoch 6/20\n",
      "15000/15000 [==============================] - 2s 100us/step - loss: 0.2004 - acc: 0.9451 - val_loss: 0.3917 - val_acc: 0.8668\n",
      "Epoch 7/20\n",
      "15000/15000 [==============================] - 1s 96us/step - loss: 0.1917 - acc: 0.9475 - val_loss: 0.3852 - val_acc: 0.8760\n",
      "Epoch 8/20\n",
      "15000/15000 [==============================] - 1s 91us/step - loss: 0.1869 - acc: 0.9499 - val_loss: 0.4311 - val_acc: 0.8694\n",
      "Epoch 9/20\n",
      "15000/15000 [==============================] - 1s 95us/step - loss: 0.1820 - acc: 0.9520 - val_loss: 0.4056 - val_acc: 0.8702\n",
      "Epoch 10/20\n",
      "15000/15000 [==============================] - 1s 91us/step - loss: 0.1735 - acc: 0.9549 - val_loss: 0.4505 - val_acc: 0.8580\n",
      "Epoch 11/20\n",
      "15000/15000 [==============================] - 1s 91us/step - loss: 0.1680 - acc: 0.9557 - val_loss: 0.4433 - val_acc: 0.8639\n",
      "Epoch 12/20\n",
      "15000/15000 [==============================] - 1s 96us/step - loss: 0.1624 - acc: 0.9605 - val_loss: 0.4418 - val_acc: 0.8688\n",
      "Epoch 13/20\n",
      "15000/15000 [==============================] - 1s 92us/step - loss: 0.1562 - acc: 0.9626 - val_loss: 0.4507 - val_acc: 0.8636\n",
      "Epoch 14/20\n",
      "15000/15000 [==============================] - 1s 99us/step - loss: 0.1553 - acc: 0.9616 - val_loss: 0.4409 - val_acc: 0.8677\n",
      "Epoch 15/20\n",
      "15000/15000 [==============================] - 1s 93us/step - loss: 0.1458 - acc: 0.9666 - val_loss: 0.4670 - val_acc: 0.8683\n",
      "Epoch 16/20\n",
      "15000/15000 [==============================] - 1s 94us/step - loss: 0.1417 - acc: 0.9691 - val_loss: 0.5003 - val_acc: 0.8639\n",
      "Epoch 17/20\n",
      "15000/15000 [==============================] - 1s 92us/step - loss: 0.1369 - acc: 0.9688 - val_loss: 0.4725 - val_acc: 0.8666\n",
      "Epoch 18/20\n",
      "15000/15000 [==============================] - 1s 91us/step - loss: 0.1338 - acc: 0.9705 - val_loss: 0.4841 - val_acc: 0.8671\n",
      "Epoch 19/20\n",
      "15000/15000 [==============================] - 1s 90us/step - loss: 0.1285 - acc: 0.9736 - val_loss: 0.5760 - val_acc: 0.8544\n",
      "Epoch 20/20\n",
      "15000/15000 [==============================] - 1s 92us/step - loss: 0.1276 - acc: 0.9730 - val_loss: 0.5567 - val_acc: 0.8583\n"
     ]
    }
   ],
   "source": [
    "from keras import regularizers\n",
    "\n",
    "model = models.Sequential()\n",
    "model.add(layers.Dense(16,\n",
    "                       kernel_regularizer=regularizers.l2(0.001),\n",
    "                       activation='relu',\n",
    "                       input_shape=(10000,)))\n",
    "model.add(layers.Dense(16,\n",
    "                       kernel_regularizer=regularizers.l2(0.001),\n",
    "                       activation='relu'))\n",
    "model.add(layers.Dense(1, activation='sigmoid'))\n",
    "\n",
    "model.compile(loss='binary_crossentropy',\n",
    "              optimizer=optimizers.RMSprop(lr=0.001),\n",
    "              metrics=['accuracy'])\n",
    "\n",
    "history = model.fit(partial_x_train,\n",
    "                    partial_y_train,\n",
    "                    batch_size=batch_size,\n",
    "                    epochs=epochs,\n",
    "                    verbose=1,\n",
    "                    validation_data=(x_val, y_val))"
   ]
  },
  {
   "cell_type": "code",
   "execution_count": 26,
   "metadata": {},
   "outputs": [],
   "source": [
    "history_dict = history.history\n",
    "l2_model_loss = history_dict['val_loss']"
   ]
  },
  {
   "cell_type": "code",
   "execution_count": 48,
   "metadata": {},
   "outputs": [
    {
     "data": {
      "image/png": "[encoded data removed]",
      "text/plain": [
       "<Figure size 720x432 with 1 Axes>"
      ]
     },
     "metadata": {
      "needs_background": "light"
     },
     "output_type": "display_data"
    }
   ],
   "source": [
    "plt.figure(figsize=(10,6))\n",
    "\n",
    "plt.plot(num_epochs, l2_model_loss, 'b', label='L2-regularized Model')\n",
    "plt.plot(num_epochs, m_model_loss, 'r', label='Original Model')\n",
    "plt.xlabel('Epochs')\n",
    "plt.ylabel('Validation Loss')\n",
    "plt.legend()\n",
    "\n",
    "plt.xticks(np.arange(0, 21, step=1))\n",
    "\n",
    "plt.show()"
   ]
  },
  {
   "cell_type": "markdown",
   "metadata": {},
   "source": [
    "## Dropout"
   ]
  },
  {
   "cell_type": "code",
   "execution_count": 46,
   "metadata": {},
   "outputs": [
    {
     "name": "stdout",
     "output_type": "stream",
     "text": [
      "Train on 15000 samples, validate on 10000 samples\n",
      "Epoch 1/20\n",
      "15000/15000 [==============================] - 4s 267us/step - loss: 0.5691 - acc: 0.6985 - val_loss: 0.3951 - val_acc: 0.8701\n",
      "Epoch 2/20\n",
      "15000/15000 [==============================] - 2s 107us/step - loss: 0.3984 - acc: 0.8417 - val_loss: 0.3155 - val_acc: 0.8790\n",
      "Epoch 3/20\n",
      "15000/15000 [==============================] - 1s 89us/step - loss: 0.3202 - acc: 0.8864 - val_loss: 0.2827 - val_acc: 0.8905\n",
      "Epoch 4/20\n",
      "15000/15000 [==============================] - 1s 89us/step - loss: 0.2710 - acc: 0.9086 - val_loss: 0.2835 - val_acc: 0.8904\n",
      "Epoch 5/20\n",
      "15000/15000 [==============================] - 1s 91us/step - loss: 0.2383 - acc: 0.9178 - val_loss: 0.3016 - val_acc: 0.8914\n",
      "Epoch 6/20\n",
      "15000/15000 [==============================] - 1s 91us/step - loss: 0.2147 - acc: 0.9291 - val_loss: 0.3183 - val_acc: 0.8865\n",
      "Epoch 7/20\n",
      "15000/15000 [==============================] - 1s 91us/step - loss: 0.2050 - acc: 0.9335 - val_loss: 0.3457 - val_acc: 0.8855\n",
      "Epoch 8/20\n",
      "15000/15000 [==============================] - 1s 92us/step - loss: 0.1884 - acc: 0.9392 - val_loss: 0.3707 - val_acc: 0.8830\n",
      "Epoch 9/20\n",
      "15000/15000 [==============================] - 1s 93us/step - loss: 0.1791 - acc: 0.9438 - val_loss: 0.3819 - val_acc: 0.8850\n",
      "Epoch 10/20\n",
      "15000/15000 [==============================] - 1s 94us/step - loss: 0.1749 - acc: 0.9465 - val_loss: 0.4099 - val_acc: 0.8874\n",
      "Epoch 11/20\n",
      "15000/15000 [==============================] - 1s 91us/step - loss: 0.1655 - acc: 0.9504 - val_loss: 0.4429 - val_acc: 0.8861\n",
      "Epoch 12/20\n",
      "15000/15000 [==============================] - 1s 91us/step - loss: 0.1547 - acc: 0.9521 - val_loss: 0.4468 - val_acc: 0.8805\n",
      "Epoch 13/20\n",
      "15000/15000 [==============================] - 1s 90us/step - loss: 0.1549 - acc: 0.9539 - val_loss: 0.4955 - val_acc: 0.8834\n",
      "Epoch 14/20\n",
      "15000/15000 [==============================] - 1s 96us/step - loss: 0.1604 - acc: 0.9543 - val_loss: 0.4807 - val_acc: 0.8830\n",
      "Epoch 15/20\n",
      "15000/15000 [==============================] - 1s 95us/step - loss: 0.1546 - acc: 0.9553 - val_loss: 0.4782 - val_acc: 0.8766\n",
      "Epoch 16/20\n",
      "15000/15000 [==============================] - 1s 92us/step - loss: 0.1419 - acc: 0.9591 - val_loss: 0.5055 - val_acc: 0.8802\n",
      "Epoch 17/20\n",
      "15000/15000 [==============================] - 1s 91us/step - loss: 0.1371 - acc: 0.9588 - val_loss: 0.5322 - val_acc: 0.8811\n",
      "Epoch 18/20\n",
      "15000/15000 [==============================] - 1s 90us/step - loss: 0.1386 - acc: 0.9611 - val_loss: 0.5360 - val_acc: 0.8812\n",
      "Epoch 19/20\n",
      "15000/15000 [==============================] - 1s 91us/step - loss: 0.1379 - acc: 0.9629 - val_loss: 0.5282 - val_acc: 0.8717\n",
      "Epoch 20/20\n",
      "15000/15000 [==============================] - 1s 94us/step - loss: 0.1468 - acc: 0.9606 - val_loss: 0.5429 - val_acc: 0.8806\n"
     ]
    }
   ],
   "source": [
    "model = models.Sequential()\n",
    "model.add(layers.Dense(16, activation='relu', input_shape=(10000,)))\n",
    "model.add(layers.Dropout(0.5))\n",
    "model.add(layers.Dense(16, activation='relu'))\n",
    "model.add(layers.Dropout(0.5))\n",
    "model.add(layers.Dense(1, activation='sigmoid'))\n",
    "\n",
    "\n",
    "model.compile(loss='binary_crossentropy',\n",
    "              optimizer=optimizers.RMSprop(lr=0.001),\n",
    "              metrics=['accuracy'])\n",
    "\n",
    "history = model.fit(partial_x_train,\n",
    "                    partial_y_train,\n",
    "                    batch_size=batch_size,\n",
    "                    epochs=epochs,\n",
    "                    verbose=1,\n",
    "                    validation_data=(x_val, y_val))"
   ]
  },
  {
   "cell_type": "code",
   "execution_count": 49,
   "metadata": {},
   "outputs": [],
   "source": [
    "history_dict = history.history\n",
    "dropout_model_loss = history_dict['val_loss']"
   ]
  },
  {
   "cell_type": "code",
   "execution_count": 50,
   "metadata": {},
   "outputs": [
    {
     "data": {
      "image/png": "[encoded data removed]",
      "text/plain": [
       "<Figure size 720x432 with 1 Axes>"
      ]
     },
     "metadata": {
      "needs_background": "light"
     },
     "output_type": "display_data"
    }
   ],
   "source": [
    "plt.figure(figsize=(10,6))\n",
    "\n",
    "plt.plot(num_epochs, dropout_model_loss, 'b', label='Dropout-regularized Model')\n",
    "plt.plot(num_epochs, m_model_loss, 'r', label='Original Model')\n",
    "plt.xlabel('Epochs')\n",
    "plt.ylabel('Validation Loss')\n",
    "plt.legend()\n",
    "\n",
    "plt.xticks(np.arange(0, 21, step=1))\n",
    "\n",
    "plt.show()"
   ]
  },
  {
   "cell_type": "code",
   "execution_count": null,
   "metadata": {},
   "outputs": [],
   "source": []
  }
 ],
 "metadata": {
  "kernelspec": {
   "display_name": "Python 3",
   "language": "python",
   "name": "python3"
  },
  "language_info": {
   "codemirror_mode": {
    "name": "ipython",
    "version": 3
   },
   "file_extension": ".py",
   "mimetype": "text/x-python",
   "name": "python",
   "nbconvert_exporter": "python",
   "pygments_lexer": "ipython3",
   "version": "3.7.3"
  }
 },
 "nbformat": 4,
 "nbformat_minor": 2
}
