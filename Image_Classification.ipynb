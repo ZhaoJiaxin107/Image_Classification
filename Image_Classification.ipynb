{
 "cells": [
  {
   "cell_type": "markdown",
   "metadata": {},
   "source": [
    "## Image Classification"
   ]
  },
  {
   "cell_type": "markdown",
   "metadata": {},
   "source": [
    "### 1.Firstly we will do the data preparation"
   ]
  },
  {
   "cell_type": "code",
   "execution_count": 1,
   "metadata": {
    "collapsed": true
   },
   "outputs": [],
   "source": [
    "#pip install opencv-python"
   ]
  },
  {
   "cell_type": "code",
   "execution_count": 2,
   "metadata": {
    "collapsed": true
   },
   "outputs": [],
   "source": [
    "import os,sys\n",
    "import cv2"
   ]
  },
  {
   "cell_type": "markdown",
   "metadata": {},
   "source": [
    "### cv2.imread()\n",
    "cv2.imread() method loads an image from the specified file. If the image cannot be read (because of missing file, improper permissions, unsupported or invalid format) then this method returns an empty matrix.\n",
    "\n",
    "Syntax: cv2.imread(path, flag)\n",
    "\n",
    "#### Parameters:\n",
    "path: A string representing the path of the image to be read.\n",
    "flag: It specifies the way in which image should be read. It’s default value is cv2.IMREAD_COLOR"
   ]
  },
  {
   "cell_type": "markdown",
   "metadata": {},
   "source": [
    "### cv2.imwrite()\n",
    "\n",
    "OpenCV-Python is a library of Python bindings designed to solve computer vision problems\n",
    "\n",
    "cv2.imwrite() method is used to save an image to any storage device. \n",
    "This will save the image according to the specified format in current working directory.\n",
    "\n",
    "#### Syntax: cv2.imwrite(filename, image)\n",
    "\n",
    "#### Parameters:\n",
    "filename: A string representing the file name. The filename must include image format like .jpg, .png, etc.\n",
    "image: It is the image that is to be saved."
   ]
  },
  {
   "cell_type": "code",
   "execution_count": 3,
   "metadata": {
    "collapsed": true
   },
   "outputs": [],
   "source": [
    "# Save all the images in the .jpg format, at the same time delete the original images,\n",
    "def listfiles(rootDir):\n",
    "  \n",
    "      list_dirs = os.walk(rootDir)\n",
    "      for root, dirs, files in list_dirs:\n",
    "        #print(root,dirs,files)\n",
    "        #for d in dirs:\n",
    "            #print(os.path.join(root,d))\n",
    "      \n",
    "        for f in files:\n",
    "            field = f.split('.')[0]\n",
    "            \n",
    "            #os.path.join() method in Python join one or more path components intelligently. \n",
    "            filepath = os.path.join(root,f)\n",
    "            try:\n",
    "                src = cv2.imread(filepath,1)\n",
    "                print(\"src=\",filepath,src.shape)\n",
    "                os.remove(filepath)\n",
    "                cv2.imwrite(os.path.join(root,field + \".jpg\"),src)\n",
    "            except:\n",
    "                os.remove(filepath)\n",
    "                continue"
   ]
  },
  {
   "cell_type": "code",
   "execution_count": 4,
   "metadata": {},
   "outputs": [
    {
     "name": "stdout",
     "output_type": "stream",
     "text": [
      "src= C:\\Users\\zjiax\\Desktop\\Projects\\Image_Classification\\Beak\\Google_0000.jpg (640, 640, 3)\n",
      "src= C:\\Users\\zjiax\\Desktop\\Projects\\Image_Classification\\Beak\\Google_0002.jpg (852, 960, 3)\n",
      "src= C:\\Users\\zjiax\\Desktop\\Projects\\Image_Classification\\Beak\\Google_0004.jpg (595, 583, 3)\n",
      "src= C:\\Users\\zjiax\\Desktop\\Projects\\Image_Classification\\Beak\\Google_0005.jpg (300, 300, 3)\n",
      "src= C:\\Users\\zjiax\\Desktop\\Projects\\Image_Classification\\Beak\\Google_0006.jpg (1144, 750, 3)\n",
      "src= C:\\Users\\zjiax\\Desktop\\Projects\\Image_Classification\\Beak\\Google_0009.jpg (602, 640, 3)\n",
      "src= C:\\Users\\zjiax\\Desktop\\Projects\\Image_Classification\\Beak\\Google_0010.jpg (902, 640, 3)\n",
      "src= C:\\Users\\zjiax\\Desktop\\Projects\\Image_Classification\\Beak\\Google_0013.jpg (523, 500, 3)\n",
      "src= C:\\Users\\zjiax\\Desktop\\Projects\\Image_Classification\\Beak\\Google_0014.jpg (392, 519, 3)\n",
      "src= C:\\Users\\zjiax\\Desktop\\Projects\\Image_Classification\\Beak\\Google_0021.jpg (400, 400, 3)\n",
      "src= C:\\Users\\zjiax\\Desktop\\Projects\\Image_Classification\\Beak\\Google_0022.jpg (975, 780, 3)\n",
      "src= C:\\Users\\zjiax\\Desktop\\Projects\\Image_Classification\\Beak\\Google_0023.jpg (580, 580, 3)\n",
      "src= C:\\Users\\zjiax\\Desktop\\Projects\\Image_Classification\\Beak\\Google_0025.jpg (620, 413, 3)\n",
      "src= C:\\Users\\zjiax\\Desktop\\Projects\\Image_Classification\\Beak\\Google_0026.jpg (400, 400, 3)\n",
      "src= C:\\Users\\zjiax\\Desktop\\Projects\\Image_Classification\\Beak\\Google_0027.jpg (616, 960, 3)\n",
      "src= C:\\Users\\zjiax\\Desktop\\Projects\\Image_Classification\\Beak\\Google_0029.jpg (695, 640, 3)\n",
      "src= C:\\Users\\zjiax\\Desktop\\Projects\\Image_Classification\\Beak\\Google_0030.jpg (617, 451, 3)\n",
      "src= C:\\Users\\zjiax\\Desktop\\Projects\\Image_Classification\\Beak\\Google_0032.jpg (500, 500, 3)\n",
      "src= C:\\Users\\zjiax\\Desktop\\Projects\\Image_Classification\\Beak\\Google_0035.jpg (652, 640, 3)\n",
      "src= C:\\Users\\zjiax\\Desktop\\Projects\\Image_Classification\\Beak\\Google_0040.jpg (642, 408, 3)\n",
      "src= C:\\Users\\zjiax\\Desktop\\Projects\\Image_Classification\\Beak\\Google_0044.jpg (573, 860, 3)\n",
      "src= C:\\Users\\zjiax\\Desktop\\Projects\\Image_Classification\\Beak\\Google_0047.jpg (327, 500, 3)\n",
      "src= C:\\Users\\zjiax\\Desktop\\Projects\\Image_Classification\\Beak\\Google_0048.jpg (550, 550, 3)\n",
      "src= C:\\Users\\zjiax\\Desktop\\Projects\\Image_Classification\\Beak\\Google_0049.jpg (502, 634, 3)\n",
      "src= C:\\Users\\zjiax\\Desktop\\Projects\\Image_Classification\\Beak\\Google_0053.jpg (800, 640, 3)\n",
      "src= C:\\Users\\zjiax\\Desktop\\Projects\\Image_Classification\\Beak\\Google_0054.jpg (478, 473, 3)\n",
      "src= C:\\Users\\zjiax\\Desktop\\Projects\\Image_Classification\\Beak\\Google_0055.jpg (1199, 800, 3)\n",
      "src= C:\\Users\\zjiax\\Desktop\\Projects\\Image_Classification\\Beak\\Google_0059.jpg (533, 800, 3)\n",
      "src= C:\\Users\\zjiax\\Desktop\\Projects\\Image_Classification\\Beak\\Google_0061.jpg (667, 1000, 3)\n",
      "src= C:\\Users\\zjiax\\Desktop\\Projects\\Image_Classification\\Beak\\Google_0064.jpg (437, 818, 3)\n",
      "src= C:\\Users\\zjiax\\Desktop\\Projects\\Image_Classification\\Beak\\Google_0065.jpg (656, 400, 3)\n",
      "src= C:\\Users\\zjiax\\Desktop\\Projects\\Image_Classification\\Beak\\Google_0067.jpg (403, 639, 3)\n",
      "src= C:\\Users\\zjiax\\Desktop\\Projects\\Image_Classification\\Beak\\Google_0070.jpg (216, 423, 3)\n",
      "src= C:\\Users\\zjiax\\Desktop\\Projects\\Image_Classification\\Beak\\Google_0074.jpg (495, 600, 3)\n",
      "src= C:\\Users\\zjiax\\Desktop\\Projects\\Image_Classification\\Beak\\Google_0075.jpg (920, 690, 3)\n",
      "src= C:\\Users\\zjiax\\Desktop\\Projects\\Image_Classification\\Beak\\Google_0079.jpg (839, 630, 3)\n",
      "src= C:\\Users\\zjiax\\Desktop\\Projects\\Image_Classification\\Beak\\Google_0081.jpg (1010, 580, 3)\n",
      "src= C:\\Users\\zjiax\\Desktop\\Projects\\Image_Classification\\Beak\\Google_0082.jpg (871, 492, 3)\n",
      "src= C:\\Users\\zjiax\\Desktop\\Projects\\Image_Classification\\Beak\\Google_0083.jpg (370, 600, 3)\n",
      "src= C:\\Users\\zjiax\\Desktop\\Projects\\Image_Classification\\Beak\\Google_0085.jpg (511, 420, 3)\n",
      "src= C:\\Users\\zjiax\\Desktop\\Projects\\Image_Classification\\Beak\\Google_0086.jpg (595, 800, 3)\n",
      "src= C:\\Users\\zjiax\\Desktop\\Projects\\Image_Classification\\Beak\\Google_0088.jpg (566, 981, 3)\n",
      "src= C:\\Users\\zjiax\\Desktop\\Projects\\Image_Classification\\Beak\\Google_0089.jpg (596, 1060, 3)\n",
      "src= C:\\Users\\zjiax\\Desktop\\Projects\\Image_Classification\\Beak\\Google_0090.jpg (595, 539, 3)\n",
      "src= C:\\Users\\zjiax\\Desktop\\Projects\\Image_Classification\\Beak\\Google_0092.jpg (480, 320, 3)\n",
      "src= C:\\Users\\zjiax\\Desktop\\Projects\\Image_Classification\\Beak\\Google_0093.jpg (552, 448, 3)\n"
     ]
    }
   ],
   "source": [
    "rootDir = 'C:\\\\Users\\\\zjiax\\\\Desktop\\\\Projects\\\\Image_Classification\\\\Beak'\n",
    "listfiles(rootDir)"
   ]
  },
  {
   "cell_type": "markdown",
   "metadata": {},
   "source": [
    "#### Model filtering non-face data\n",
    "#### Filtering beak-expression pictures artificially"
   ]
  },
  {
   "cell_type": "code",
   "execution_count": 5,
   "metadata": {
    "collapsed": true
   },
   "outputs": [],
   "source": [
    "# We should use openCV to detect face\n",
    "cascade_path = 'haarcascade_frontalface_default.xml'\n",
    "cascade = cv2.CascadeClassifier(cascade_path)"
   ]
  },
  {
   "cell_type": "code",
   "execution_count": 6,
   "metadata": {
    "collapsed": true
   },
   "outputs": [],
   "source": [
    "images  = os.listdir(rootDir)"
   ]
  },
  {
   "cell_type": "code",
   "execution_count": 7,
   "metadata": {},
   "outputs": [
    {
     "name": "stdout",
     "output_type": "stream",
     "text": [
      "detect face 1\n",
      "detect face 1\n",
      "detect face 1\n",
      "detect face 1\n",
      "detect face 1\n",
      "detect face 1\n",
      "detect face 1\n",
      "detect face 1\n",
      "detect face 1\n",
      "detect face 1\n",
      "detect face 1\n",
      "detect face 1\n",
      "detect face 1\n",
      "detect face 1\n",
      "detect face 1\n",
      "detect face 1\n",
      "detect face 1\n",
      "detect face 2\n",
      "detect face 1\n",
      "detect face 1\n",
      "detect face 1\n",
      "detect face 1\n",
      "detect face 2\n",
      "detect face 1\n",
      "detect face 1\n",
      "detect face 1\n",
      "detect face 1\n",
      "detect face 1\n",
      "detect face 1\n",
      "detect face 2\n",
      "detect face 1\n",
      "detect face 2\n",
      "detect face 1\n",
      "detect face 1\n",
      "detect face 1\n",
      "detect face 1\n",
      "detect face 1\n",
      "detect face 1\n",
      "detect face 1\n",
      "detect face 1\n",
      "detect face 1\n",
      "detect face 1\n",
      "detect face 1\n",
      "detect face 1\n",
      "detect face 1\n",
      "detect face 1\n"
     ]
    }
   ],
   "source": [
    "for image in images:\n",
    "    im = cv2.imread(os.path.join(rootDir,image),1)\n",
    "    rects = cascade.detectMultiScale(im,1.3,5)\n",
    "    print(\"detect face\",len(rects))\n",
    "    \n",
    "    if(len(rects) == 0):\n",
    "       # cv2.namedWindow('Result',0)\n",
    "       # cv2.imshow(\"Result\",im)\n",
    "        os.remove(os.path.join(rootDir,image))\n",
    "        #k = cv2.waitKey(0)\n",
    "        #if(k==ord('q')):\n",
    "        # break;"
   ]
  },
  {
   "cell_type": "markdown",
   "metadata": {},
   "source": [
    "### Hash-based deduplication algorithm for similar graph deduplication"
   ]
  },
  {
   "cell_type": "markdown",
   "metadata": {},
   "source": [
    "sudo pip install python-Levenshtein\n",
    "\n",
    "python remove_repeat.py \"C:\\Users\\zjiax\\Desktop\\Projects\\Image_Classification\\Beak\""
   ]
  },
  {
   "cell_type": "markdown",
   "metadata": {},
   "source": [
    "### Data preprocessing"
   ]
  },
  {
   "cell_type": "markdown",
   "metadata": {
    "collapsed": true
   },
   "source": [
    "Use OpenCV + Dlib to locate lips' keypoints"
   ]
  },
  {
   "cell_type": "code",
   "execution_count": 8,
   "metadata": {
    "collapsed": true
   },
   "outputs": [],
   "source": [
    "import dlib"
   ]
  },
  {
   "cell_type": "code",
   "execution_count": 9,
   "metadata": {
    "collapsed": true
   },
   "outputs": [],
   "source": [
    "PREDICTOR_PATH = \"shape_predictor_68_face_landmarks.dat\"  # Keypoints Detection Model\n",
    "predictor = dlib.shape_predictor(PREDICTOR_PATH) #Dlib Keypoints Detector\n",
    "cascade_path = \"haarcascade_frontalface_default.xml\" ## Face Classifier\n",
    "cascade = cv2.CascadeClassifier(cascade_path)"
   ]
  },
  {
   "cell_type": "code",
   "execution_count": 10,
   "metadata": {
    "collapsed": true
   },
   "outputs": [],
   "source": [
    "def get_landmarks(im):\n",
    "    rects = cascade.detectMultiScale(im,1,3.5)\n",
    "    x,y,w,h = rects[0]\n",
    "    rect = dlib.rectangle(x,y,x+w,y+h)\n",
    "    return np.matrix([[p.x,p.y] for p in predictor(im,rect).parts()])"
   ]
  },
  {
   "cell_type": "code",
   "execution_count": 11,
   "metadata": {
    "collapsed": true
   },
   "outputs": [],
   "source": [
    "## Extract lip area\n",
    "def getlipfromimage(im,landmarks):\n",
    "    xmin = 10000\n",
    "    xmax  = 0\n",
    "    ymin = 10000\n",
    "    ymax = 0\n",
    "    \n",
    "    for i in range(48,67):\n",
    "        x = landmarks[i,0]\n",
    "        y = landmarks[i,1]\n",
    "        \n",
    "        if x < xmin: xmin = x\n",
    "        if x > xmin: xmax = x\n",
    "        if y < ymin: ymin = y\n",
    "        if y > ymax: ymax = y\n",
    "            \n",
    "    roiwidth  = xmax - xmin\n",
    "    roiheight = ymax - ymin\n",
    "    roi = im[ymin:ymax,xmin:xmax,0:3]\n",
    "    \n",
    "    # enlarge lip area\n",
    "    if roiwidth > roiheight:\n",
    "        dstlen = 1.5 * roiwidth\n",
    "    else:\n",
    "        dstlen = 1.5 * roiheight\n",
    "        \n",
    "    diff_xlen = dstlen - roiwidth\n",
    "    diff_ylen = dstlen - roiheight\n",
    "    newx = xmin\n",
    "    newy = ymin\n",
    "    \n",
    "    imagerows,imagecols,channel = im.shape\n",
    "    if newx >= diff_xlen/2 and newx + roiwidth + diff_xlen/2 < imagecols:\n",
    "        newx = newx - diff_len/2\n",
    "    elif newx < diff_xlen/2:\n",
    "        newx = 0;\n",
    "    else:\n",
    "        newx = imagecols - dstlen;\n",
    "        \n",
    "    if newy >=diff_ylen/2 and newy + roiheight + diff_ylen/2 < imagerows:\n",
    "        newy = newy - diff_ylen/2;\n",
    "    elif newy < diff_ylen/2:\n",
    "        newy = 0;\n",
    "    else:\n",
    "        newy = imagecols - dstlen;\n",
    "        \n",
    "    roi = im[int(newy):int(newy+dstlen),int(newx):int(newx+dstlen),0:3]"
   ]
  }
 ],
 "metadata": {
  "kernelspec": {
   "display_name": "Python 3",
   "language": "python",
   "name": "python3"
  },
  "language_info": {
   "codemirror_mode": {
    "name": "ipython",
    "version": 3
   },
   "file_extension": ".py",
   "mimetype": "text/x-python",
   "name": "python",
   "nbconvert_exporter": "python",
   "pygments_lexer": "ipython3",
   "version": "3.6.10"
  }
 },
 "nbformat": 4,
 "nbformat_minor": 2
}
