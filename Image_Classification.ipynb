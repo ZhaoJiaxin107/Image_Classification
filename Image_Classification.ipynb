{
 "cells": [
  {
   "cell_type": "markdown",
   "metadata": {},
   "source": [
    "## Image Classification"
   ]
  },
  {
   "cell_type": "markdown",
   "metadata": {},
   "source": [
    "### 1.Firstly we will do the data preparation"
   ]
  },
  {
   "cell_type": "code",
   "execution_count": 14,
   "metadata": {},
   "outputs": [
    {
     "name": "stdout",
     "output_type": "stream",
     "text": [
      "Collecting opencv-python\n",
      "  Using cached https://files.pythonhosted.org/packages/85/17/bad54f67bbe27d88ba520c3f59315e95b4e254cd28767c20accacb0597d8/opencv_python-4.2.0.34-cp37-cp37m-win_amd64.whl\n",
      "Requirement already satisfied: numpy>=1.14.5 in c:\\users\\zjx_n\\anaconda3\\lib\\site-packages (from opencv-python) (1.16.5)\n",
      "Installing collected packages: opencv-python\n",
      "Successfully installed opencv-python-4.2.0.34\n",
      "Note: you may need to restart the kernel to use updated packages.\n"
     ]
    }
   ],
   "source": [
    "pip install opencv-python"
   ]
  },
  {
   "cell_type": "code",
   "execution_count": 31,
   "metadata": {},
   "outputs": [],
   "source": [
    "import os,sys\n",
    "import cv2"
   ]
  },
  {
   "cell_type": "markdown",
   "metadata": {},
   "source": [
    "### cv2.imread()\n",
    "cv2.imread() method loads an image from the specified file. If the image cannot be read (because of missing file, improper permissions, unsupported or invalid format) then this method returns an empty matrix.\n",
    "\n",
    "Syntax: cv2.imread(path, flag)\n",
    "\n",
    "#### Parameters:\n",
    "path: A string representing the path of the image to be read.\n",
    "flag: It specifies the way in which image should be read. It’s default value is cv2.IMREAD_COLOR"
   ]
  },
  {
   "cell_type": "markdown",
   "metadata": {},
   "source": [
    "### cv2.imwrite()\n",
    "\n",
    "OpenCV-Python is a library of Python bindings designed to solve computer vision problems\n",
    "\n",
    "cv2.imwrite() method is used to save an image to any storage device. \n",
    "This will save the image according to the specified format in current working directory.\n",
    "\n",
    "#### Syntax: cv2.imwrite(filename, image)\n",
    "\n",
    "#### Parameters:\n",
    "filename: A string representing the file name. The filename must include image format like .jpg, .png, etc.\n",
    "image: It is the image that is to be saved."
   ]
  },
  {
   "cell_type": "code",
   "execution_count": 46,
   "metadata": {},
   "outputs": [],
   "source": [
    "def listfiles(rootDir):\n",
    "  \n",
    "      list_dirs = os.walk(rootDir)\n",
    "      for root, dirs, files in list_dirs:\n",
    "        #print(root,dirs,files)\n",
    "        #for d in dirs:\n",
    "            #print(os.path.join(root,d))\n",
    "      \n",
    "        for f in files:\n",
    "            field = f.split('.')[0]\n",
    "            \n",
    "            #os.path.join() method in Python join one or more path components intelligently. \n",
    "            filepath = os.path.join(root,f)\n",
    "            try:\n",
    "                src = cv2.imread(filepath,1)\n",
    "                print(\"src=\",filepath,src.shape)\n",
    "                os.remove(filepath)\n",
    "                cv2.imwrite(os.path.join(root,field + \".jpg\"),src)\n",
    "            except:\n",
    "                os.remove(filepath)\n",
    "                continue"
   ]
  },
  {
   "cell_type": "code",
   "execution_count": 47,
   "metadata": {},
   "outputs": [
    {
     "name": "stdout",
     "output_type": "stream",
     "text": [
      "src= C:\\Users\\zjx_n\\Desktop\\labs\\Image-Downloader\\download_images\\Beak\\Google_0000.jpg (640, 640, 3)\n",
      "src= C:\\Users\\zjx_n\\Desktop\\labs\\Image-Downloader\\download_images\\Beak\\Google_0001.jpg (600, 562, 3)\n",
      "src= C:\\Users\\zjx_n\\Desktop\\labs\\Image-Downloader\\download_images\\Beak\\Google_0002.jpg (852, 960, 3)\n",
      "src= C:\\Users\\zjx_n\\Desktop\\labs\\Image-Downloader\\download_images\\Beak\\Google_0003.jpg (704, 900, 3)\n",
      "src= C:\\Users\\zjx_n\\Desktop\\labs\\Image-Downloader\\download_images\\Beak\\Google_0004.jpg (595, 583, 3)\n",
      "src= C:\\Users\\zjx_n\\Desktop\\labs\\Image-Downloader\\download_images\\Beak\\Google_0005.jpg (300, 300, 3)\n",
      "src= C:\\Users\\zjx_n\\Desktop\\labs\\Image-Downloader\\download_images\\Beak\\Google_0006.jpg (1144, 750, 3)\n",
      "src= C:\\Users\\zjx_n\\Desktop\\labs\\Image-Downloader\\download_images\\Beak\\Google_0009.jpg (602, 640, 3)\n",
      "src= C:\\Users\\zjx_n\\Desktop\\labs\\Image-Downloader\\download_images\\Beak\\Google_0010.jpg (902, 640, 3)\n",
      "src= C:\\Users\\zjx_n\\Desktop\\labs\\Image-Downloader\\download_images\\Beak\\Google_0011.jpg (240, 580, 3)\n",
      "src= C:\\Users\\zjx_n\\Desktop\\labs\\Image-Downloader\\download_images\\Beak\\Google_0013.jpg (523, 500, 3)\n",
      "src= C:\\Users\\zjx_n\\Desktop\\labs\\Image-Downloader\\download_images\\Beak\\Google_0014.jpg (392, 519, 3)\n",
      "src= C:\\Users\\zjx_n\\Desktop\\labs\\Image-Downloader\\download_images\\Beak\\Google_0015.jpg (1108, 1500, 3)\n",
      "src= C:\\Users\\zjx_n\\Desktop\\labs\\Image-Downloader\\download_images\\Beak\\Google_0016.jpg (515, 445, 3)\n",
      "src= C:\\Users\\zjx_n\\Desktop\\labs\\Image-Downloader\\download_images\\Beak\\Google_0017.jpg (400, 400, 3)\n",
      "src= C:\\Users\\zjx_n\\Desktop\\labs\\Image-Downloader\\download_images\\Beak\\Google_0018.jpg (400, 400, 3)\n",
      "src= C:\\Users\\zjx_n\\Desktop\\labs\\Image-Downloader\\download_images\\Beak\\Google_0019.jpg (720, 720, 3)\n",
      "src= C:\\Users\\zjx_n\\Desktop\\labs\\Image-Downloader\\download_images\\Beak\\Google_0021.jpg (400, 400, 3)\n",
      "src= C:\\Users\\zjx_n\\Desktop\\labs\\Image-Downloader\\download_images\\Beak\\Google_0022.jpg (975, 780, 3)\n",
      "src= C:\\Users\\zjx_n\\Desktop\\labs\\Image-Downloader\\download_images\\Beak\\Google_0023.jpg (580, 580, 3)\n",
      "src= C:\\Users\\zjx_n\\Desktop\\labs\\Image-Downloader\\download_images\\Beak\\Google_0024.jpg (1266, 950, 3)\n",
      "src= C:\\Users\\zjx_n\\Desktop\\labs\\Image-Downloader\\download_images\\Beak\\Google_0025.jpg (620, 413, 3)\n",
      "src= C:\\Users\\zjx_n\\Desktop\\labs\\Image-Downloader\\download_images\\Beak\\Google_0026.jpg (400, 400, 3)\n",
      "src= C:\\Users\\zjx_n\\Desktop\\labs\\Image-Downloader\\download_images\\Beak\\Google_0027.jpg (616, 960, 3)\n",
      "src= C:\\Users\\zjx_n\\Desktop\\labs\\Image-Downloader\\download_images\\Beak\\Google_0028.jpg (400, 400, 3)\n",
      "src= C:\\Users\\zjx_n\\Desktop\\labs\\Image-Downloader\\download_images\\Beak\\Google_0029.jpg (695, 640, 3)\n",
      "src= C:\\Users\\zjx_n\\Desktop\\labs\\Image-Downloader\\download_images\\Beak\\Google_0030.jpg (617, 451, 3)\n",
      "src= C:\\Users\\zjx_n\\Desktop\\labs\\Image-Downloader\\download_images\\Beak\\Google_0031.jpg (781, 967, 3)\n",
      "src= C:\\Users\\zjx_n\\Desktop\\labs\\Image-Downloader\\download_images\\Beak\\Google_0032.jpg (500, 500, 3)\n",
      "src= C:\\Users\\zjx_n\\Desktop\\labs\\Image-Downloader\\download_images\\Beak\\Google_0033.jpg (500, 500, 3)\n",
      "src= C:\\Users\\zjx_n\\Desktop\\labs\\Image-Downloader\\download_images\\Beak\\Google_0034.jpg (847, 640, 3)\n",
      "src= C:\\Users\\zjx_n\\Desktop\\labs\\Image-Downloader\\download_images\\Beak\\Google_0035.jpg (652, 640, 3)\n",
      "src= C:\\Users\\zjx_n\\Desktop\\labs\\Image-Downloader\\download_images\\Beak\\Google_0036.jpg (310, 500, 3)\n",
      "src= C:\\Users\\zjx_n\\Desktop\\labs\\Image-Downloader\\download_images\\Beak\\Google_0037.jpg (3200, 1800, 3)\n",
      "src= C:\\Users\\zjx_n\\Desktop\\labs\\Image-Downloader\\download_images\\Beak\\Google_0038.jpg (610, 640, 3)\n",
      "src= C:\\Users\\zjx_n\\Desktop\\labs\\Image-Downloader\\download_images\\Beak\\Google_0039.jpg (234, 350, 3)\n",
      "src= C:\\Users\\zjx_n\\Desktop\\labs\\Image-Downloader\\download_images\\Beak\\Google_0040.jpg (642, 408, 3)\n",
      "src= C:\\Users\\zjx_n\\Desktop\\labs\\Image-Downloader\\download_images\\Beak\\Google_0041.jpg (440, 440, 3)\n",
      "src= C:\\Users\\zjx_n\\Desktop\\labs\\Image-Downloader\\download_images\\Beak\\Google_0042.jpg (571, 440, 3)\n",
      "src= C:\\Users\\zjx_n\\Desktop\\labs\\Image-Downloader\\download_images\\Beak\\Google_0043.jpg (1182, 950, 3)\n",
      "src= C:\\Users\\zjx_n\\Desktop\\labs\\Image-Downloader\\download_images\\Beak\\Google_0044.jpg (573, 860, 3)\n",
      "src= C:\\Users\\zjx_n\\Desktop\\labs\\Image-Downloader\\download_images\\Beak\\Google_0045.jpg (550, 511, 3)\n",
      "src= C:\\Users\\zjx_n\\Desktop\\labs\\Image-Downloader\\download_images\\Beak\\Google_0047.jpg (327, 500, 3)\n",
      "src= C:\\Users\\zjx_n\\Desktop\\labs\\Image-Downloader\\download_images\\Beak\\Google_0048.jpg (550, 550, 3)\n",
      "src= C:\\Users\\zjx_n\\Desktop\\labs\\Image-Downloader\\download_images\\Beak\\Google_0049.jpg (502, 634, 3)\n",
      "src= C:\\Users\\zjx_n\\Desktop\\labs\\Image-Downloader\\download_images\\Beak\\Google_0050.jpg (591, 497, 3)\n",
      "src= C:\\Users\\zjx_n\\Desktop\\labs\\Image-Downloader\\download_images\\Beak\\Google_0051.jpg (432, 650, 3)\n",
      "src= C:\\Users\\zjx_n\\Desktop\\labs\\Image-Downloader\\download_images\\Beak\\Google_0052.jpg (633, 529, 3)\n",
      "src= C:\\Users\\zjx_n\\Desktop\\labs\\Image-Downloader\\download_images\\Beak\\Google_0053.jpg (800, 640, 3)\n",
      "src= C:\\Users\\zjx_n\\Desktop\\labs\\Image-Downloader\\download_images\\Beak\\Google_0054.jpg (478, 473, 3)\n",
      "src= C:\\Users\\zjx_n\\Desktop\\labs\\Image-Downloader\\download_images\\Beak\\Google_0055.jpg (1199, 800, 3)\n",
      "src= C:\\Users\\zjx_n\\Desktop\\labs\\Image-Downloader\\download_images\\Beak\\Google_0056.jpg (676, 517, 3)\n",
      "src= C:\\Users\\zjx_n\\Desktop\\labs\\Image-Downloader\\download_images\\Beak\\Google_0057.jpg (400, 300, 3)\n",
      "src= C:\\Users\\zjx_n\\Desktop\\labs\\Image-Downloader\\download_images\\Beak\\Google_0059.jpg (533, 800, 3)\n",
      "src= C:\\Users\\zjx_n\\Desktop\\labs\\Image-Downloader\\download_images\\Beak\\Google_0060.jpg (440, 440, 3)\n",
      "src= C:\\Users\\zjx_n\\Desktop\\labs\\Image-Downloader\\download_images\\Beak\\Google_0061.jpg (667, 1000, 3)\n",
      "src= C:\\Users\\zjx_n\\Desktop\\labs\\Image-Downloader\\download_images\\Beak\\Google_0062.jpg (634, 440, 3)\n",
      "src= C:\\Users\\zjx_n\\Desktop\\labs\\Image-Downloader\\download_images\\Beak\\Google_0063.jpg (500, 500, 3)\n",
      "src= C:\\Users\\zjx_n\\Desktop\\labs\\Image-Downloader\\download_images\\Beak\\Google_0064.jpg (437, 818, 3)\n",
      "src= C:\\Users\\zjx_n\\Desktop\\labs\\Image-Downloader\\download_images\\Beak\\Google_0065.jpg (656, 400, 3)\n",
      "src= C:\\Users\\zjx_n\\Desktop\\labs\\Image-Downloader\\download_images\\Beak\\Google_0066.jpg (1009, 700, 3)\n",
      "src= C:\\Users\\zjx_n\\Desktop\\labs\\Image-Downloader\\download_images\\Beak\\Google_0067.jpg (403, 639, 3)\n",
      "src= C:\\Users\\zjx_n\\Desktop\\labs\\Image-Downloader\\download_images\\Beak\\Google_0069.jpg (464, 525, 3)\n",
      "src= C:\\Users\\zjx_n\\Desktop\\labs\\Image-Downloader\\download_images\\Beak\\Google_0070.jpg (216, 423, 3)\n",
      "src= C:\\Users\\zjx_n\\Desktop\\labs\\Image-Downloader\\download_images\\Beak\\Google_0071.jpg (338, 600, 3)\n",
      "src= C:\\Users\\zjx_n\\Desktop\\labs\\Image-Downloader\\download_images\\Beak\\Google_0072.jpg (1187, 950, 3)\n",
      "src= C:\\Users\\zjx_n\\Desktop\\labs\\Image-Downloader\\download_images\\Beak\\Google_0073.jpg (795, 640, 3)\n",
      "src= C:\\Users\\zjx_n\\Desktop\\labs\\Image-Downloader\\download_images\\Beak\\Google_0074.jpg (495, 600, 3)\n",
      "src= C:\\Users\\zjx_n\\Desktop\\labs\\Image-Downloader\\download_images\\Beak\\Google_0075.jpg (920, 690, 3)\n",
      "src= C:\\Users\\zjx_n\\Desktop\\labs\\Image-Downloader\\download_images\\Beak\\Google_0076.jpg (1138, 796, 3)\n",
      "src= C:\\Users\\zjx_n\\Desktop\\labs\\Image-Downloader\\download_images\\Beak\\Google_0078.jpg (630, 630, 3)\n",
      "src= C:\\Users\\zjx_n\\Desktop\\labs\\Image-Downloader\\download_images\\Beak\\Google_0079.jpg (839, 630, 3)\n",
      "src= C:\\Users\\zjx_n\\Desktop\\labs\\Image-Downloader\\download_images\\Beak\\Google_0080.jpg (174, 250, 3)\n",
      "src= C:\\Users\\zjx_n\\Desktop\\labs\\Image-Downloader\\download_images\\Beak\\Google_0081.jpg (1010, 580, 3)\n",
      "src= C:\\Users\\zjx_n\\Desktop\\labs\\Image-Downloader\\download_images\\Beak\\Google_0082.jpg (871, 492, 3)\n",
      "src= C:\\Users\\zjx_n\\Desktop\\labs\\Image-Downloader\\download_images\\Beak\\Google_0083.jpg (370, 600, 3)\n",
      "src= C:\\Users\\zjx_n\\Desktop\\labs\\Image-Downloader\\download_images\\Beak\\Google_0084.jpg (400, 600, 3)\n",
      "src= C:\\Users\\zjx_n\\Desktop\\labs\\Image-Downloader\\download_images\\Beak\\Google_0085.jpg (511, 420, 3)\n",
      "src= C:\\Users\\zjx_n\\Desktop\\labs\\Image-Downloader\\download_images\\Beak\\Google_0086.jpg (595, 800, 3)\n",
      "src= C:\\Users\\zjx_n\\Desktop\\labs\\Image-Downloader\\download_images\\Beak\\Google_0087.jpg (1836, 2937, 3)\n",
      "src= C:\\Users\\zjx_n\\Desktop\\labs\\Image-Downloader\\download_images\\Beak\\Google_0088.jpg (566, 981, 3)\n",
      "src= C:\\Users\\zjx_n\\Desktop\\labs\\Image-Downloader\\download_images\\Beak\\Google_0089.jpg (596, 1060, 3)\n",
      "src= C:\\Users\\zjx_n\\Desktop\\labs\\Image-Downloader\\download_images\\Beak\\Google_0090.jpg (595, 539, 3)\n",
      "src= C:\\Users\\zjx_n\\Desktop\\labs\\Image-Downloader\\download_images\\Beak\\Google_0091.jpg (399, 600, 3)\n",
      "src= C:\\Users\\zjx_n\\Desktop\\labs\\Image-Downloader\\download_images\\Beak\\Google_0092.jpg (480, 320, 3)\n",
      "src= C:\\Users\\zjx_n\\Desktop\\labs\\Image-Downloader\\download_images\\Beak\\Google_0093.jpg (552, 448, 3)\n",
      "src= C:\\Users\\zjx_n\\Desktop\\labs\\Image-Downloader\\download_images\\Beak\\Google_0094.jpg (768, 640, 3)\n"
     ]
    }
   ],
   "source": [
    "rootDir = 'C:\\\\Users\\\\zjx_n\\\\Desktop\\\\labs\\\\Image-Downloader\\\\download_images\\\\Beak'\n",
    "listfiles(rootDir)"
   ]
  },
  {
   "cell_type": "code",
   "execution_count": null,
   "metadata": {},
   "outputs": [],
   "source": []
  }
 ],
 "metadata": {
  "kernelspec": {
   "display_name": "Python 3",
   "language": "python",
   "name": "python3"
  },
  "language_info": {
   "codemirror_mode": {
    "name": "ipython",
    "version": 3
   },
   "file_extension": ".py",
   "mimetype": "text/x-python",
   "name": "python",
   "nbconvert_exporter": "python",
   "pygments_lexer": "ipython3",
   "version": "3.7.4"
  }
 },
 "nbformat": 4,
 "nbformat_minor": 2
}
